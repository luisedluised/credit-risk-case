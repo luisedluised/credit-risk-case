{
 "cells": [
  {
   "cell_type": "markdown",
   "metadata": {},
   "source": [
    "!pip install numpy==1.23.4"
   ]
  },
  {
   "cell_type": "code",
   "execution_count": null,
   "metadata": {},
   "outputs": [],
   "source": [
    "FEATURE_SELECTION = False"
   ]
  },
  {
   "cell_type": "code",
   "execution_count": 29,
   "metadata": {},
   "outputs": [],
   "source": [
    "import pandas as pd\n",
    "import numpy as np\n",
    "import matplotlib.pyplot as plt\n",
    "import seaborn as sns\n",
    "from warnings import filterwarnings\n",
    "filterwarnings('ignore')\n",
    "import time"
   ]
  },
  {
   "cell_type": "code",
   "execution_count": 30,
   "metadata": {},
   "outputs": [],
   "source": [
    "from utils import modeling_utils as mu"
   ]
  },
  {
   "cell_type": "code",
   "execution_count": 31,
   "metadata": {},
   "outputs": [],
   "source": [
    "from scipy.stats import pearsonr\n",
    "from sklearn.svm import SVC"
   ]
  },
  {
   "cell_type": "code",
   "execution_count": 32,
   "metadata": {},
   "outputs": [],
   "source": [
    "df = pd.read_csv('../data/german_credit_data.csv')\n",
    "df = df.drop(['Unnamed: 0'], axis=1)\n",
    "df.columns = [x.lower().replace(' ', '_') for x in df.columns]"
   ]
  },
  {
   "cell_type": "code",
   "execution_count": 33,
   "metadata": {},
   "outputs": [],
   "source": [
    "df = df.sample(frac=0.1, random_state=42).reset_index(drop=True)"
   ]
  },
  {
   "cell_type": "code",
   "execution_count": 34,
   "metadata": {},
   "outputs": [],
   "source": [
    "job_dic = {\n",
    "    0: 'unskilled non res',\n",
    "    1: 'unskilled resident',\n",
    "    2: 'skilled',\n",
    "    3: 'highly skilled'\n",
    "}\n",
    "df.job = df.job.map(job_dic)"
   ]
  },
  {
   "cell_type": "code",
   "execution_count": 35,
   "metadata": {},
   "outputs": [],
   "source": [
    "numerical_features = ['age', 'credit_amount', 'duration']\n",
    "categorical_features = ['sex', 'job', 'housing', 'saving_accounts', 'checking_account', 'purpose']"
   ]
  },
  {
   "cell_type": "code",
   "execution_count": 36,
   "metadata": {},
   "outputs": [],
   "source": [
    "df.saving_accounts = df.saving_accounts.fillna('undefined')\n",
    "df.checking_account = df.checking_account.fillna('undefined')"
   ]
  },
  {
   "cell_type": "code",
   "execution_count": 37,
   "metadata": {},
   "outputs": [
    {
     "data": {
      "text/plain": [
       "0"
      ]
     },
     "execution_count": 37,
     "metadata": {},
     "output_type": "execute_result"
    }
   ],
   "source": [
    "df.isna().sum().sum()"
   ]
  },
  {
   "cell_type": "code",
   "execution_count": 38,
   "metadata": {},
   "outputs": [
    {
     "data": {
      "text/html": [
       "<div>\n",
       "<style scoped>\n",
       "    .dataframe tbody tr th:only-of-type {\n",
       "        vertical-align: middle;\n",
       "    }\n",
       "\n",
       "    .dataframe tbody tr th {\n",
       "        vertical-align: top;\n",
       "    }\n",
       "\n",
       "    .dataframe thead th {\n",
       "        text-align: right;\n",
       "    }\n",
       "</style>\n",
       "<table border=\"1\" class=\"dataframe\">\n",
       "  <thead>\n",
       "    <tr style=\"text-align: right;\">\n",
       "      <th></th>\n",
       "      <th>age</th>\n",
       "      <th>sex</th>\n",
       "      <th>job</th>\n",
       "      <th>housing</th>\n",
       "      <th>saving_accounts</th>\n",
       "      <th>checking_account</th>\n",
       "      <th>credit_amount</th>\n",
       "      <th>duration</th>\n",
       "      <th>purpose</th>\n",
       "      <th>risk</th>\n",
       "      <th>target</th>\n",
       "    </tr>\n",
       "  </thead>\n",
       "  <tbody>\n",
       "    <tr>\n",
       "      <th>35</th>\n",
       "      <td>36</td>\n",
       "      <td>male</td>\n",
       "      <td>skilled</td>\n",
       "      <td>free</td>\n",
       "      <td>undefined</td>\n",
       "      <td>moderate</td>\n",
       "      <td>2760</td>\n",
       "      <td>24</td>\n",
       "      <td>car</td>\n",
       "      <td>good</td>\n",
       "      <td>0</td>\n",
       "    </tr>\n",
       "    <tr>\n",
       "      <th>75</th>\n",
       "      <td>48</td>\n",
       "      <td>male</td>\n",
       "      <td>skilled</td>\n",
       "      <td>own</td>\n",
       "      <td>little</td>\n",
       "      <td>little</td>\n",
       "      <td>1024</td>\n",
       "      <td>24</td>\n",
       "      <td>radio/TV</td>\n",
       "      <td>bad</td>\n",
       "      <td>1</td>\n",
       "    </tr>\n",
       "    <tr>\n",
       "      <th>54</th>\n",
       "      <td>44</td>\n",
       "      <td>male</td>\n",
       "      <td>skilled</td>\n",
       "      <td>own</td>\n",
       "      <td>moderate</td>\n",
       "      <td>moderate</td>\n",
       "      <td>1804</td>\n",
       "      <td>12</td>\n",
       "      <td>car</td>\n",
       "      <td>good</td>\n",
       "      <td>0</td>\n",
       "    </tr>\n",
       "  </tbody>\n",
       "</table>\n",
       "</div>"
      ],
      "text/plain": [
       "    age   sex      job housing saving_accounts checking_account  \\\n",
       "35   36  male  skilled    free       undefined         moderate   \n",
       "75   48  male  skilled     own          little           little   \n",
       "54   44  male  skilled     own        moderate         moderate   \n",
       "\n",
       "    credit_amount  duration   purpose  risk  target  \n",
       "35           2760        24       car  good       0  \n",
       "75           1024        24  radio/TV   bad       1  \n",
       "54           1804        12       car  good       0  "
      ]
     },
     "execution_count": 38,
     "metadata": {},
     "output_type": "execute_result"
    }
   ],
   "source": [
    "df['target'] = (df.risk == 'bad').astype(int)\n",
    "df.sample(3)"
   ]
  },
  {
   "cell_type": "code",
   "execution_count": 39,
   "metadata": {},
   "outputs": [],
   "source": [
    "from sklearn.model_selection import train_test_split\n",
    "\n",
    "X_train, X_test, y_train, y_test = train_test_split(df.drop(['risk', 'target'], axis=1), df.target, \n",
    "                                                    test_size=0.2, random_state=42, stratify = df.target)"
   ]
  },
  {
   "cell_type": "code",
   "execution_count": 40,
   "metadata": {},
   "outputs": [],
   "source": [
    "from sklearn.base import BaseEstimator, TransformerMixin\n",
    "\n",
    "class PreprocessingTransformer(BaseEstimator, TransformerMixin):\n",
    "    def __init__(self,  numerical_features, categorical_features, dropped_features = []):\n",
    "        self.dropped_features = dropped_features\n",
    "        self.numerical_features = numerical_features\n",
    "        self.categorical_features = categorical_features\n",
    "        pass\n",
    "    \n",
    "    def fit(self, X, y=None):\n",
    "        self.categorical_features_order = mu.sort_categorical_values_by_correlation(X.copy(), y, self.categorical_features)\n",
    "        self.positive_and_negative_indicators_frme = mu.find_positive_and_negative_indicators(X.copy(), y, self.numerical_features, self.categorical_features)\n",
    "        return self\n",
    "\n",
    "    def transform(self, X):\n",
    "        X = mu.encode_categorical_values(X.copy(), self.categorical_features_order)\n",
    "        X = mu.apply_indicators_conditions(X.copy(), self.positive_and_negative_indicators_frme)\n",
    "        X = X.drop(self.dropped_features, axis = 1)\n",
    "        self.features = X.columns\n",
    "        return X\n"
   ]
  },
  {
   "cell_type": "code",
   "execution_count": 41,
   "metadata": {},
   "outputs": [],
   "source": [
    "from sklearn.pipeline import Pipeline\n",
    "from sklearn.preprocessing import StandardScaler\n",
    "from sklearn.linear_model import LogisticRegression\n",
    "import lightgbm as lgb\n",
    "from sklearn.model_selection import train_test_split\n",
    "from sklearn.ensemble import RandomForestClassifier"
   ]
  },
  {
   "cell_type": "code",
   "execution_count": 42,
   "metadata": {},
   "outputs": [],
   "source": [
    "## bayes optimization\n",
    "\n",
    "from skopt import BayesSearchCV\n",
    "from skopt.space import Real, Categorical, Integer\n"
   ]
  },
  {
   "cell_type": "code",
   "execution_count": 43,
   "metadata": {},
   "outputs": [],
   "source": [
    "def test_pipeline(model, model_params, cv, n_iter, print_scores=True, dropped_features = []):\n",
    "\n",
    "    pipeline = Pipeline([\n",
    "        ('preprocess', PreprocessingTransformer(numerical_features, categorical_features,\n",
    "                                                dropped_features=dropped_features)), \n",
    "        ('model', model)\n",
    "        ])\n",
    "\n",
    "    bayes_search = BayesSearchCV(\n",
    "        pipeline,\n",
    "        model_params,\n",
    "        cv=cv,\n",
    "        verbose=-1,\n",
    "        n_jobs=-1,\n",
    "        return_train_score=True,\n",
    "        n_iter = n_iter,\n",
    "        scoring='roc_auc'\n",
    "    )\n",
    "\n",
    "    bayes_search.fit(X_train, y_train)\n",
    "\n",
    "    best_estimator_test_score = bayes_search.best_score_\n",
    "    best_estimator_train_score = bayes_search.cv_results_['mean_train_score'][bayes_search.best_index_]\n",
    "\n",
    "    output = {\n",
    "        'best_estimator_test_score': best_estimator_test_score,\n",
    "        'best_estimator_train_score': best_estimator_train_score,\n",
    "        'best_estimator_test_score_std': bayes_search.cv_results_['std_test_score'][bayes_search.best_index_],\n",
    "        'best_estimator': bayes_search.best_estimator_,\n",
    "        'best_params': bayes_search.best_params_\n",
    "    }\n",
    "    mu.warn(model_params, bayes_search.best_params_)\n",
    "\n",
    "    if print_scores == True:\n",
    "        print('best estimator test score:', best_estimator_test_score)\n",
    "        print('best estimator train score:', best_estimator_train_score)\n",
    "\n",
    "    return output, bayes_search\n"
   ]
  },
  {
   "cell_type": "markdown",
   "metadata": {},
   "source": [
    "## model selection"
   ]
  },
  {
   "cell_type": "code",
   "execution_count": 44,
   "metadata": {},
   "outputs": [],
   "source": [
    "cv, n_iter = 5, 30"
   ]
  },
  {
   "cell_type": "markdown",
   "metadata": {},
   "source": [
    "## lgbm (gradient boosting)"
   ]
  },
  {
   "cell_type": "code",
   "execution_count": 45,
   "metadata": {},
   "outputs": [
    {
     "name": "stdout",
     "output_type": "stream",
     "text": [
      "best estimator test score: 0.8237500000000001\n",
      "best estimator train score: 0.8853750317823545\n"
     ]
    }
   ],
   "source": [
    "model = lgb.LGBMClassifier(verbose = -1, n_estimators=30)\n",
    "\n",
    "model_params = {\n",
    "    'model__num_leaves': Integer(10, 100, 'uniform'),\n",
    "    'model__feature_fraction': Real(0.1, 1, 'uniform'),\n",
    "    'model__learning_rate': Real(0.001, 0.1, 'log-uniform'),\n",
    "    'model__min_child_samples': Integer(5, 200, 'uniform'),\n",
    "    'model__boosting_type': Categorical(['gbdt', 'dart', 'goss']),\n",
    "    'model__n_estimators': Integer(30, 300, 'uniform'),\n",
    "}\n",
    "\n",
    "boosting_test_results, _ = test_pipeline(model, model_params, cv, n_iter)"
   ]
  },
  {
   "cell_type": "markdown",
   "metadata": {},
   "source": [
    "## lgbm (random forest)"
   ]
  },
  {
   "cell_type": "code",
   "execution_count": 46,
   "metadata": {},
   "outputs": [
    {
     "name": "stdout",
     "output_type": "stream",
     "text": [
      "best estimator test score: 0.7884090909090908\n",
      "best estimator train score: 0.8949046529366896\n"
     ]
    }
   ],
   "source": [
    "model = lgb.LGBMClassifier(verbose = -1, boosting_type ='rf', \n",
    "                            bagging_freq = 1, bagging_fraction =0.6, n_estimators=100)\n",
    "\n",
    "model_params = {\n",
    "    'model__num_leaves': Integer(10, 100, 'uniform'),\n",
    "    'model__feature_fraction': Real(0.1, 1, 'uniform'),\n",
    "    'model__min_child_samples': Integer(5, 200, 'uniform'),\n",
    "}\n",
    "\n",
    "bagging_test_results, _ = test_pipeline(model, model_params, cv, n_iter)"
   ]
  },
  {
   "cell_type": "markdown",
   "metadata": {},
   "source": [
    "## feature selection"
   ]
  },
  {
   "cell_type": "code",
   "execution_count": 47,
   "metadata": {},
   "outputs": [],
   "source": [
    "all_features = numerical_features + categorical_features + ['positive_negative_balance', 'number_positive_indicators', 'number_negative_indicators']"
   ]
  },
  {
   "cell_type": "code",
   "execution_count": null,
   "metadata": {},
   "outputs": [],
   "source": [
    "def selection_round(n_evaluations, model, model_params, all_features, previously_removed):\n",
    "    rows = []\n",
    "\n",
    "    all_tested_feats = [x for x in all_features if x not in previously_removed]\n",
    "\n",
    "    for i in range(n_evaluations):\n",
    "        for tested_feature in (all_tested_feats + [[]])[::-1]:\n",
    "            feature_formatted = tested_feature if type(tested_feature) == list else [tested_feature]\n",
    "            dropped = list(set(feature_formatted).union(set(previously_removed)))\n",
    "            res, _ = test_pipeline(model, model_params, 5, 5, dropped_features=dropped, print_scores=False)\n",
    "            res = (pd.DataFrame({\n",
    "                    'removed_feature': str(tested_feature),\n",
    "                    'test_score': res['best_estimator_test_score']}, index=[0])\n",
    "                    )\n",
    "            rows.append(res)\n",
    "\n",
    "    results = pd.concat(rows).reset_index(drop=True)\n",
    "\n",
    "    results.removed_feature = results.removed_feature.astype(str)\n",
    "    results ['avg_test_score'] = results.groupby('removed_feature').test_score.transform('mean')\n",
    "    results = results.sort_values('avg_test_score', ascending=False).drop_duplicates('removed_feature').reset_index(drop=True)\n",
    "    results = results.drop('test_score', axis=1)\n",
    "\n",
    "    worse = results.iloc[0]\n",
    "    worse_feature = worse.removed_feature\n",
    "\n",
    "\n",
    "    if worse_feature == '[]':\n",
    "        print('acabou')\n",
    "        return '[]', results\n",
    "\n",
    "    print('Removing', worse_feature)\n",
    "    return worse_feature, results"
   ]
  },
  {
   "cell_type": "code",
   "execution_count": null,
   "metadata": {},
   "outputs": [
    {
     "name": "stdout",
     "output_type": "stream",
     "text": [
      "removing purpose\n",
      "round time,  58.3 seconds. Removed feature: purpose \n",
      "\n",
      "removing credit_amount\n",
      "round time,  53.0 seconds. Removed feature: credit_amount \n",
      "\n",
      "removing age\n",
      "round time,  49.1 seconds. Removed feature: age \n",
      "\n",
      "acabou\n",
      "round time,  44.3 seconds. Removed feature: [] \n",
      "\n"
     ]
    }
   ],
   "source": [
    "n_evaluations_per_round = 4\n",
    "\n",
    "model_params = {\n",
    "    'model__feature_fraction': Real(0.8, 1, 'uniform')\n",
    "    }\n",
    "model = lgb.LGBMClassifier(verbose = -1, boosting_type ='gbdt', n_estimators=100)\n",
    "\n",
    "\n",
    "previously_removed = []\n",
    "removed = ''\n",
    "\n",
    "if FEATURE_SELECTION == False:\n",
    "    removed = '[]' ## it's going to skip the while below\n",
    "\n",
    "result = pd.DataFrame()\n",
    "while removed != '[]':\n",
    "    start = time.time()\n",
    "    removed, round_res = selection_round(n_evaluations_per_round, model, model_params,\n",
    "                        all_features[::-1], previously_removed = previously_removed)\n",
    "    previously_removed.append(removed)\n",
    "    round_res['round'] = len(previously_removed)\n",
    "    round_res['round_removed'] = removed\n",
    "    result = pd.concat([result, round_res])\n",
    "    #display(round_res)\n",
    "    print('Round time, ', round(time.time() - start, 1), 'seconds. Removed feature:', removed, '\\n')"
   ]
  },
  {
   "cell_type": "code",
   "execution_count": null,
   "metadata": {},
   "outputs": [
    {
     "data": {
      "text/plain": [
       "['purpose', 'credit_amount', 'age']"
      ]
     },
     "execution_count": 22,
     "metadata": {},
     "output_type": "execute_result"
    }
   ],
   "source": [
    "selected_out = previously_removed\n",
    "selected_out.remove('[]')\n",
    "selected_out"
   ]
  },
  {
   "cell_type": "markdown",
   "metadata": {},
   "source": [
    "## final tuning and result"
   ]
  },
  {
   "cell_type": "code",
   "execution_count": null,
   "metadata": {},
   "outputs": [
    {
     "data": {
      "text/plain": [
       "OrderedDict([('model__boosting_type', 'goss'),\n",
       "             ('model__feature_fraction', 1.0),\n",
       "             ('model__learning_rate', 0.1),\n",
       "             ('model__min_child_samples', 5),\n",
       "             ('model__n_estimators', 300),\n",
       "             ('model__num_leaves', 100)])"
      ]
     },
     "execution_count": 24,
     "metadata": {},
     "output_type": "execute_result"
    }
   ],
   "source": [
    "best_params = boosting_test_results['best_params']\n",
    "best_params"
   ]
  },
  {
   "cell_type": "code",
   "execution_count": null,
   "metadata": {},
   "outputs": [
    {
     "name": "stdout",
     "output_type": "stream",
     "text": [
      "best estimator test score: 0.7625\n",
      "best estimator train score: 0.925\n"
     ]
    }
   ],
   "source": [
    "model = lgb.LGBMClassifier(verbose = -1, \n",
    "                            boosting_type = best_params['model__boosting_type'],\n",
    "                            feature_fraction = best_params['model__feature_fraction'],\n",
    "                            min_child_samples = best_params['model__min_child_samples'],\n",
    "                            learning_rate = None, num_leaves = None, n_estimators = None)\n",
    "\n",
    "model_params = {\n",
    "    'model__learning_rate': Real(0.001, 0.1, 'log-uniform'),\n",
    "    'model__num_leaves': Integer(10, 100, 'uniform'),\n",
    "    'model__n_estimators': Integer(30, 300, 'uniform') \n",
    "    }\n",
    "\n",
    "final_model_test_results, best_model = test_pipeline(model, model_params, cv = 5, n_iter = 5, dropped_features=selected_out)"
   ]
  },
  {
   "cell_type": "code",
   "execution_count": null,
   "metadata": {},
   "outputs": [
    {
     "data": {
      "text/plain": [
       "OrderedDict([('model__learning_rate', 0.08662322576439983),\n",
       "             ('model__n_estimators', 55),\n",
       "             ('model__num_leaves', 75)])"
      ]
     },
     "execution_count": 26,
     "metadata": {},
     "output_type": "execute_result"
    }
   ],
   "source": [
    "final_model_test_results['best_params']"
   ]
  },
  {
   "cell_type": "code",
   "execution_count": null,
   "metadata": {},
   "outputs": [
    {
     "name": "stdout",
     "output_type": "stream",
     "text": [
      "auc score: 0.8333333333333334\n"
     ]
    },
    {
     "data": {
      "image/png": "[encoded data removed]",
      "text/plain": [
       "<Figure size 1300x300 with 2 Axes>"
      ]
     },
     "metadata": {},
     "output_type": "display_data"
    }
   ],
   "source": [
    "## test be\n",
    "# st_model on the test set\n",
    "\n",
    "from sklearn.metrics import roc_auc_score, accuracy_score, precision_score, recall_score, f1_score\n",
    "\n",
    "y_pred_proba = best_model.predict_proba(X_test)[:,1]\n",
    "print('auc score:', roc_auc_score(y_test, y_pred_proba))\n",
    "\n",
    "## precision recall curve\n",
    "\n",
    "from sklearn.metrics import precision_recall_curve\n",
    "from sklearn.metrics import roc_curve\n",
    "\n",
    "precision, recall, thresholds = precision_recall_curve(y_test, y_pred_proba)\n",
    "fpr, tpr, thresholds = roc_curve(y_test, y_pred_proba)\n",
    "\n",
    "class_imbalance = y_test.value_counts(normalize=True)[1]\n",
    "\n",
    "_, ax = plt.subplots(1, 2, figsize=(13, 3))\n",
    "ax[0].plot(recall, precision, label = 'model')\n",
    "ax[0].plot([0, 1], [class_imbalance, class_imbalance], 'k--', label = 'no skill')\n",
    "ax[0].fill_between(recall, precision, 0, alpha=0.05)\n",
    "ax[0].fill_between([0, 1], [class_imbalance, class_imbalance], color = 'white')\n",
    "ax[0].set_xlabel('recall')\n",
    "ax[0].set_ylabel('precision')\n",
    "ax[0].set_title('precision recall curve')\n",
    "ax[0].yaxis.tick_right()\n",
    "ax[0].set_ylim([-0.05, 1.05])\n",
    "ax[0].legend()\n",
    "\n",
    "ax[1].plot(fpr, tpr, label = 'model')\n",
    "ax[1].plot([0, 1], [0, 1], 'k--', label = 'no skill')\n",
    "ax[1].fill_between(fpr, tpr, 0, alpha=0.05)\n",
    "ax[1].fill_between([0, 1], [0, 1], color = 'white')\n",
    "ax[1].legend()\n",
    "\n",
    "\n",
    "ax[1].set_xlabel('false positive rate')\n",
    "ax[1].set_ylabel('true positive rate')\n",
    "ax[1].set_title('roc curve')\n",
    "ax[1].yaxis.set_label_position(\"right\")\n",
    "\n",
    "## print auc score"
   ]
  },
  {
   "cell_type": "markdown",
   "metadata": {},
   "source": [
    "## threshold selection"
   ]
  },
  {
   "cell_type": "code",
   "execution_count": null,
   "metadata": {},
   "outputs": [],
   "source": []
  }
 ],
 "metadata": {
  "kernelspec": {
   "display_name": "Python 3",
   "language": "python",
   "name": "python3"
  },
  "language_info": {
   "codemirror_mode": {
    "name": "ipython",
    "version": 3
   },
   "file_extension": ".py",
   "mimetype": "text/x-python",
   "name": "python",
   "nbconvert_exporter": "python",
   "pygments_lexer": "ipython3",
   "version": "3.11.5"
  },
  "orig_nbformat": 4
 },
 "nbformat": 4,
 "nbformat_minor": 2
}
