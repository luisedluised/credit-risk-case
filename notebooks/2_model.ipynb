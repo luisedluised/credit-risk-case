{
 "cells": [
  {
   "cell_type": "code",
   "execution_count": 1,
   "metadata": {},
   "outputs": [],
   "source": [
    "FEATURE_SELECTION = True\n",
    "SCRIPT_TESTING = False\n",
    "\n",
    "import pandas as pd\n",
    "import numpy as np #==1.23.4 compatible with lightgbm and bayessearchcv\n",
    "import matplotlib.pyplot as plt\n",
    "import seaborn as sns\n",
    "from warnings import filterwarnings\n",
    "filterwarnings('ignore')\n",
    "\n",
    "import time\n",
    "\n",
    "import lightgbm as lgb\n",
    "from sklearn.model_selection import train_test_split\n",
    "from sklearn.metrics import precision_recall_curve, roc_curve, roc_auc_score\n",
    "\n",
    "\n",
    "from skopt.space import Real, Categorical, Integer\n",
    "\n",
    "from utils import modeling_utils as mu\n",
    "from utils import plotting_utils as pu"
   ]
  },
  {
   "cell_type": "code",
   "execution_count": 2,
   "metadata": {},
   "outputs": [],
   "source": [
    "df = pd.read_csv('../data/german_credit_data.csv')\n",
    "\n",
    "df = df.drop(['Unnamed: 0'], axis=1)\n",
    "df.columns = [x.lower().replace(' ', '_') for x in df.columns]"
   ]
  },
  {
   "cell_type": "code",
   "execution_count": 3,
   "metadata": {},
   "outputs": [],
   "source": [
    "numerical_features = ['age', 'credit_amount', 'duration']\n",
    "categorical_features = ['sex', 'job', 'housing', 'saving_accounts', 'checking_account', 'purpose']\n",
    "\n",
    "job_dic = {\n",
    "    0: 'unskilled non res',\n",
    "    1: 'unskilled resident',\n",
    "    2: 'skilled',\n",
    "    3: 'highly skilled'\n",
    "}\n",
    "df.job = df.job.map(job_dic)"
   ]
  },
  {
   "cell_type": "code",
   "execution_count": 4,
   "metadata": {},
   "outputs": [
    {
     "data": {
      "text/plain": [
       "0"
      ]
     },
     "execution_count": 4,
     "metadata": {},
     "output_type": "execute_result"
    }
   ],
   "source": [
    "df.saving_accounts = df.saving_accounts.fillna('undefined')\n",
    "df.checking_account = df.checking_account.fillna('undefined') ## we are treating indefinitions are new categories as they have strong relations with target\n",
    "\n",
    "df['target'] = (df.risk == 'bad').astype(int)\n",
    "df.isna().sum().sum()"
   ]
  },
  {
   "cell_type": "code",
   "execution_count": 5,
   "metadata": {},
   "outputs": [
    {
     "data": {
      "text/html": [
       "<div>\n",
       "<style scoped>\n",
       "    .dataframe tbody tr th:only-of-type {\n",
       "        vertical-align: middle;\n",
       "    }\n",
       "\n",
       "    .dataframe tbody tr th {\n",
       "        vertical-align: top;\n",
       "    }\n",
       "\n",
       "    .dataframe thead th {\n",
       "        text-align: right;\n",
       "    }\n",
       "</style>\n",
       "<table border=\"1\" class=\"dataframe\">\n",
       "  <thead>\n",
       "    <tr style=\"text-align: right;\">\n",
       "      <th></th>\n",
       "      <th>age</th>\n",
       "      <th>sex</th>\n",
       "      <th>job</th>\n",
       "      <th>housing</th>\n",
       "      <th>saving_accounts</th>\n",
       "      <th>checking_account</th>\n",
       "      <th>credit_amount</th>\n",
       "      <th>duration</th>\n",
       "      <th>purpose</th>\n",
       "      <th>risk</th>\n",
       "      <th>target</th>\n",
       "    </tr>\n",
       "  </thead>\n",
       "  <tbody>\n",
       "    <tr>\n",
       "      <th>105</th>\n",
       "      <td>39</td>\n",
       "      <td>male</td>\n",
       "      <td>highly skilled</td>\n",
       "      <td>own</td>\n",
       "      <td>little</td>\n",
       "      <td>moderate</td>\n",
       "      <td>11938</td>\n",
       "      <td>24</td>\n",
       "      <td>vacation/others</td>\n",
       "      <td>bad</td>\n",
       "      <td>1</td>\n",
       "    </tr>\n",
       "    <tr>\n",
       "      <th>926</th>\n",
       "      <td>21</td>\n",
       "      <td>female</td>\n",
       "      <td>skilled</td>\n",
       "      <td>rent</td>\n",
       "      <td>little</td>\n",
       "      <td>little</td>\n",
       "      <td>1049</td>\n",
       "      <td>18</td>\n",
       "      <td>furniture/equipment</td>\n",
       "      <td>good</td>\n",
       "      <td>0</td>\n",
       "    </tr>\n",
       "    <tr>\n",
       "      <th>154</th>\n",
       "      <td>36</td>\n",
       "      <td>male</td>\n",
       "      <td>highly skilled</td>\n",
       "      <td>rent</td>\n",
       "      <td>moderate</td>\n",
       "      <td>moderate</td>\n",
       "      <td>6967</td>\n",
       "      <td>24</td>\n",
       "      <td>business</td>\n",
       "      <td>good</td>\n",
       "      <td>0</td>\n",
       "    </tr>\n",
       "  </tbody>\n",
       "</table>\n",
       "</div>"
      ],
      "text/plain": [
       "     age     sex             job housing saving_accounts checking_account  \\\n",
       "105   39    male  highly skilled     own          little         moderate   \n",
       "926   21  female         skilled    rent          little           little   \n",
       "154   36    male  highly skilled    rent        moderate         moderate   \n",
       "\n",
       "     credit_amount  duration              purpose  risk  target  \n",
       "105          11938        24      vacation/others   bad       1  \n",
       "926           1049        18  furniture/equipment  good       0  \n",
       "154           6967        24             business  good       0  "
      ]
     },
     "execution_count": 5,
     "metadata": {},
     "output_type": "execute_result"
    }
   ],
   "source": [
    "df.sample(3)"
   ]
  },
  {
   "cell_type": "code",
   "execution_count": 6,
   "metadata": {},
   "outputs": [],
   "source": [
    "from sklearn.model_selection import train_test_split\n",
    "\n",
    "X_train, X_test, y_train, y_test = train_test_split(df.drop(['risk', 'target'], axis=1), df.target, \n",
    "                                                    test_size=0.2, random_state=42, stratify = df.target)\n",
    "\n",
    "if SCRIPT_TESTING:\n",
    "    X_train = X_train.head(80)\n",
    "    y_train = y_train.head(80)"
   ]
  },
  {
   "cell_type": "markdown",
   "metadata": {},
   "source": [
    "## Model testing pipeline"
   ]
  },
  {
   "cell_type": "markdown",
   "metadata": {},
   "source": [
    "The model testing pipeline will transform data according to the processing explained on the previous notebook by putting it in a sklearn Pipeline. \n",
    "- It is important that it is put in a Pipeline because it's a transformation that would cause a lot of data leakage if done on the entire data\n",
    "\n",
    "\n",
    "Then it performs a bayes search and return the best test scores and parameters"
   ]
  },
  {
   "cell_type": "markdown",
   "metadata": {},
   "source": [
    "## Model selection"
   ]
  },
  {
   "cell_type": "code",
   "execution_count": 7,
   "metadata": {},
   "outputs": [],
   "source": [
    "cv, n_iter = 5, 50\n",
    "\n",
    "if SCRIPT_TESTING:\n",
    "    cv, n_iter = 2, 2"
   ]
  },
  {
   "cell_type": "markdown",
   "metadata": {},
   "source": [
    "#### lgbm (gradient boosting)"
   ]
  },
  {
   "cell_type": "code",
   "execution_count": 8,
   "metadata": {},
   "outputs": [
    {
     "name": "stdout",
     "output_type": "stream",
     "text": [
      "best estimator test score: 0.7605282738095237\n",
      "best estimator train score: 0.9022228422619047\n"
     ]
    }
   ],
   "source": [
    "model = lgb.LGBMClassifier(verbose = -1)\n",
    "\n",
    "model_params = {\n",
    "    'model__num_leaves': Integer(2, 100, 'uniform'),\n",
    "    'model__feature_fraction': Real(0.1, 1, 'uniform'),\n",
    "    'model__learning_rate': Real(0.001, 0.1, 'log-uniform'),\n",
    "    'model__boosting_type': Categorical(['gbdt', 'dart', 'goss']),\n",
    "    'model__n_estimators': Integer(30, 300, 'uniform'),\n",
    "}\n",
    "\n",
    "boosting_test_results, _ = mu.model_testing_pipeline(model, model_params, cv, n_iter, X_train, y_train,\n",
    "                                                    numerical_features, categorical_features)"
   ]
  },
  {
   "cell_type": "markdown",
   "metadata": {},
   "source": [
    "#### lgbm (random forest)"
   ]
  },
  {
   "cell_type": "code",
   "execution_count": 9,
   "metadata": {},
   "outputs": [
    {
     "name": "stdout",
     "output_type": "stream",
     "text": [
      "best estimator test score: 0.7551339285714287\n",
      "best estimator train score: 0.9031598772321429\n"
     ]
    }
   ],
   "source": [
    "model = lgb.LGBMClassifier(verbose = -1, boosting_type ='rf', \n",
    "                            bagging_freq = 1, bagging_fraction =0.6, n_estimators=200)\n",
    "\n",
    "model_params = {\n",
    "    'model__num_leaves': Integer(2, 100, 'uniform'),\n",
    "    'model__feature_fraction': Real(0.1, 1, 'uniform'),\n",
    "    'model__min_child_samples': Integer(5, 200, 'uniform'),\n",
    "}\n",
    "\n",
    "bagging_test_results, _ = mu.model_testing_pipeline(model, model_params, cv, n_iter, X_train, y_train,\n",
    "                                                    numerical_features, categorical_features)"
   ]
  },
  {
   "cell_type": "markdown",
   "metadata": {},
   "source": [
    "- The model choice is boosting lgbm"
   ]
  },
  {
   "cell_type": "code",
   "execution_count": 10,
   "metadata": {},
   "outputs": [
    {
     "data": {
      "text/plain": [
       "OrderedDict([('model__boosting_type', 'goss'),\n",
       "             ('model__feature_fraction', 0.389844016509167),\n",
       "             ('model__learning_rate', 0.03091339831877641),\n",
       "             ('model__n_estimators', 300),\n",
       "             ('model__num_leaves', 16)])"
      ]
     },
     "execution_count": 10,
     "metadata": {},
     "output_type": "execute_result"
    }
   ],
   "source": [
    "best_params = boosting_test_results['best_params']\n",
    "best_params"
   ]
  },
  {
   "cell_type": "markdown",
   "metadata": {},
   "source": [
    "## Feature selection"
   ]
  },
  {
   "cell_type": "markdown",
   "metadata": {},
   "source": [
    "Feature selection will be done by backward elimination. The model starts with every feature\n",
    "\n",
    "Then each elimination round can be described as:\n",
    "\n",
    "- The performance of every feature is tested by removing it from the model and training/testing the model\n",
    "\n",
    "- The training/testing happens multiple times per removed feature, and the result is averaged\n",
    "\n",
    "- The feature with the worst result (as measured by test roc-auc) is dropped, only if: \n",
    "\n",
    "- The model with the feature is worse than it is with the feature by at least two mean stds\n",
    "\n",
    "- The proccess stops when in a round no feature is found to worsen the model"
   ]
  },
  {
   "cell_type": "code",
   "execution_count": 11,
   "metadata": {},
   "outputs": [],
   "source": [
    "all_features = numerical_features + categorical_features + [\n",
    "    'positive_negative_balance', 'number_positive_indicators', 'number_negative_indicators']"
   ]
  },
  {
   "cell_type": "code",
   "execution_count": 12,
   "metadata": {},
   "outputs": [
    {
     "name": "stdout",
     "output_type": "stream",
     "text": [
      "Finished.\n"
     ]
    },
    {
     "data": {
      "text/html": [
       "<div>\n",
       "<style scoped>\n",
       "    .dataframe tbody tr th:only-of-type {\n",
       "        vertical-align: middle;\n",
       "    }\n",
       "\n",
       "    .dataframe tbody tr th {\n",
       "        vertical-align: top;\n",
       "    }\n",
       "\n",
       "    .dataframe thead th {\n",
       "        text-align: right;\n",
       "    }\n",
       "</style>\n",
       "<table border=\"1\" class=\"dataframe\">\n",
       "  <thead>\n",
       "    <tr style=\"text-align: right;\">\n",
       "      <th></th>\n",
       "      <th>removed_feature</th>\n",
       "      <th>avg_test_score</th>\n",
       "      <th>avg_std_test_score</th>\n",
       "      <th>round</th>\n",
       "      <th>round_removed</th>\n",
       "    </tr>\n",
       "  </thead>\n",
       "  <tbody>\n",
       "    <tr>\n",
       "      <th>0</th>\n",
       "      <td>age</td>\n",
       "      <td>0.731196</td>\n",
       "      <td>0.005914</td>\n",
       "      <td>1</td>\n",
       "      <td>[]</td>\n",
       "    </tr>\n",
       "    <tr>\n",
       "      <th>1</th>\n",
       "      <td>housing</td>\n",
       "      <td>0.729102</td>\n",
       "      <td>0.004419</td>\n",
       "      <td>1</td>\n",
       "      <td>[]</td>\n",
       "    </tr>\n",
       "    <tr>\n",
       "      <th>2</th>\n",
       "      <td>purpose</td>\n",
       "      <td>0.727629</td>\n",
       "      <td>0.004906</td>\n",
       "      <td>1</td>\n",
       "      <td>[]</td>\n",
       "    </tr>\n",
       "    <tr>\n",
       "      <th>3</th>\n",
       "      <td>sex</td>\n",
       "      <td>0.724851</td>\n",
       "      <td>0.005310</td>\n",
       "      <td>1</td>\n",
       "      <td>[]</td>\n",
       "    </tr>\n",
       "    <tr>\n",
       "      <th>4</th>\n",
       "      <td>positive_negative_balance</td>\n",
       "      <td>0.724585</td>\n",
       "      <td>0.004191</td>\n",
       "      <td>1</td>\n",
       "      <td>[]</td>\n",
       "    </tr>\n",
       "    <tr>\n",
       "      <th>5</th>\n",
       "      <td>number_negative_indicators</td>\n",
       "      <td>0.723630</td>\n",
       "      <td>0.004831</td>\n",
       "      <td>1</td>\n",
       "      <td>[]</td>\n",
       "    </tr>\n",
       "    <tr>\n",
       "      <th>6</th>\n",
       "      <td>number_positive_indicators</td>\n",
       "      <td>0.722898</td>\n",
       "      <td>0.004332</td>\n",
       "      <td>1</td>\n",
       "      <td>[]</td>\n",
       "    </tr>\n",
       "    <tr>\n",
       "      <th>7</th>\n",
       "      <td>saving_accounts</td>\n",
       "      <td>0.721847</td>\n",
       "      <td>0.004949</td>\n",
       "      <td>1</td>\n",
       "      <td>[]</td>\n",
       "    </tr>\n",
       "    <tr>\n",
       "      <th>8</th>\n",
       "      <td>[]</td>\n",
       "      <td>0.719789</td>\n",
       "      <td>0.003916</td>\n",
       "      <td>1</td>\n",
       "      <td>[]</td>\n",
       "    </tr>\n",
       "    <tr>\n",
       "      <th>9</th>\n",
       "      <td>job</td>\n",
       "      <td>0.718679</td>\n",
       "      <td>0.004898</td>\n",
       "      <td>1</td>\n",
       "      <td>[]</td>\n",
       "    </tr>\n",
       "    <tr>\n",
       "      <th>10</th>\n",
       "      <td>duration</td>\n",
       "      <td>0.712272</td>\n",
       "      <td>0.005021</td>\n",
       "      <td>1</td>\n",
       "      <td>[]</td>\n",
       "    </tr>\n",
       "    <tr>\n",
       "      <th>11</th>\n",
       "      <td>credit_amount</td>\n",
       "      <td>0.696478</td>\n",
       "      <td>0.003959</td>\n",
       "      <td>1</td>\n",
       "      <td>[]</td>\n",
       "    </tr>\n",
       "    <tr>\n",
       "      <th>12</th>\n",
       "      <td>checking_account</td>\n",
       "      <td>0.655639</td>\n",
       "      <td>0.004988</td>\n",
       "      <td>1</td>\n",
       "      <td>[]</td>\n",
       "    </tr>\n",
       "  </tbody>\n",
       "</table>\n",
       "</div>"
      ],
      "text/plain": [
       "               removed_feature  avg_test_score  avg_std_test_score  round  \\\n",
       "0                          age        0.731196            0.005914      1   \n",
       "1                      housing        0.729102            0.004419      1   \n",
       "2                      purpose        0.727629            0.004906      1   \n",
       "3                          sex        0.724851            0.005310      1   \n",
       "4    positive_negative_balance        0.724585            0.004191      1   \n",
       "5   number_negative_indicators        0.723630            0.004831      1   \n",
       "6   number_positive_indicators        0.722898            0.004332      1   \n",
       "7              saving_accounts        0.721847            0.004949      1   \n",
       "8                           []        0.719789            0.003916      1   \n",
       "9                          job        0.718679            0.004898      1   \n",
       "10                    duration        0.712272            0.005021      1   \n",
       "11               credit_amount        0.696478            0.003959      1   \n",
       "12            checking_account        0.655639            0.004988      1   \n",
       "\n",
       "   round_removed  \n",
       "0             []  \n",
       "1             []  \n",
       "2             []  \n",
       "3             []  \n",
       "4             []  \n",
       "5             []  \n",
       "6             []  \n",
       "7             []  \n",
       "8             []  \n",
       "9             []  \n",
       "10            []  \n",
       "11            []  \n",
       "12            []  "
      ]
     },
     "metadata": {},
     "output_type": "display_data"
    },
    {
     "name": "stdout",
     "output_type": "stream",
     "text": [
      "Round duration: 207.1 seconds. Removed feature: [] \n",
      "\n"
     ]
    }
   ],
   "source": [
    "n_evaluations_per_round = 60\n",
    "\n",
    "if SCRIPT_TESTING:\n",
    "    n_evaluations_per_round = 2\n",
    "\n",
    "model = lgb.LGBMClassifier(**best_params, verbose = -1)\n",
    "\n",
    "previously_removed = []\n",
    "removed = ''\n",
    "\n",
    "if FEATURE_SELECTION == False:\n",
    "    removed = '[]' ## it's going to skip the while below\n",
    "\n",
    "result = pd.DataFrame()\n",
    "while removed != '[]':\n",
    "    start = time.time()\n",
    "\n",
    "    removed, round_res = mu.backward_elimination_round(n_evaluations_per_round, model, model_params,\n",
    "                        all_features[::-1], previously_removed, X_train, y_train, numerical_features, \n",
    "                        categorical_features)\n",
    "\n",
    "    previously_removed.append(removed)\n",
    "    round_res['round'] = len(previously_removed)\n",
    "    round_res['round_removed'] = removed\n",
    "    result = pd.concat([result, round_res])\n",
    "    display(round_res)\n",
    "    print('Round duration:', round(time.time() - start, 1), 'seconds. Removed feature:', removed, '\\n')"
   ]
  },
  {
   "cell_type": "code",
   "execution_count": 13,
   "metadata": {},
   "outputs": [
    {
     "data": {
      "text/plain": [
       "[]"
      ]
     },
     "execution_count": 13,
     "metadata": {},
     "output_type": "execute_result"
    }
   ],
   "source": [
    "selected_out = previously_removed\n",
    "selected_out.remove('[]')\n",
    "selected_out"
   ]
  },
  {
   "cell_type": "markdown",
   "metadata": {},
   "source": [
    "## Final tuning and result"
   ]
  },
  {
   "cell_type": "code",
   "execution_count": 14,
   "metadata": {},
   "outputs": [],
   "source": [
    "cv, n_iter = 5, 100\n",
    "\n",
    "if SCRIPT_TESTING:\n",
    "    cv, n_iter = 2, 2"
   ]
  },
  {
   "cell_type": "code",
   "execution_count": 15,
   "metadata": {},
   "outputs": [
    {
     "name": "stdout",
     "output_type": "stream",
     "text": [
      "best estimator test score: 0.763876488095238\n",
      "best estimator train score: 0.8161249069940476\n"
     ]
    }
   ],
   "source": [
    "model = lgb.LGBMClassifier(verbose = -1, \n",
    "                            boosting_type = best_params['model__boosting_type'],\n",
    "                            learning_rate = None, num_leaves = None, n_estimators = None, feature_fraction = None)\n",
    "\n",
    "model_params = {\n",
    "    'model__learning_rate': Real(0.001, 0.1, 'log-uniform'),\n",
    "    'model__num_leaves': Integer(2, 50, 'uniform'),\n",
    "    'model__n_estimators': Integer(30, 300, 'uniform'),\n",
    "    'model__feature_fraction': Real(0.01, 1, 'uniform')\n",
    "    }\n",
    "\n",
    "final_model_test_results, best_model = mu.model_testing_pipeline(model, model_params, cv, n_iter, \n",
    "                X_train, y_train, numerical_features, categorical_features, dropped_features = selected_out)"
   ]
  },
  {
   "cell_type": "code",
   "execution_count": 16,
   "metadata": {},
   "outputs": [
    {
     "data": {
      "text/plain": [
       "OrderedDict([('model__feature_fraction', 0.9996435018114879),\n",
       "             ('model__learning_rate', 0.01623287171505468),\n",
       "             ('model__n_estimators', 290),\n",
       "             ('model__num_leaves', 3)])"
      ]
     },
     "execution_count": 16,
     "metadata": {},
     "output_type": "execute_result"
    }
   ],
   "source": [
    "final_model_test_results['best_params']"
   ]
  },
  {
   "cell_type": "code",
   "execution_count": 17,
   "metadata": {},
   "outputs": [],
   "source": [
    "y_pred_proba = best_model.predict_proba(X_test)[:,1]\n",
    "\n",
    "test_set_results = pd.DataFrame()\n",
    "test_set_results['y_test'] = y_test\n",
    "test_set_results['y_pred_proba'] = y_pred_proba\n",
    "test_set_results.to_csv('../data/test_set_results.csv', index=False)"
   ]
  },
  {
   "cell_type": "code",
   "execution_count": 18,
   "metadata": {},
   "outputs": [
    {
     "name": "stdout",
     "output_type": "stream",
     "text": [
      "auc score: 0.7846428571428571\n"
     ]
    },
    {
     "data": {
      "image/png": "[encoded data removed]",
      "text/plain": [
       "<Figure size 1300x300 with 2 Axes>"
      ]
     },
     "metadata": {},
     "output_type": "display_data"
    }
   ],
   "source": [
    "print('auc score:', roc_auc_score(y_test, y_pred_proba))\n",
    "\n",
    "precision, recall, thresholds = precision_recall_curve(y_test, y_pred_proba)\n",
    "fpr, tpr, thresholds = roc_curve(y_test, y_pred_proba)\n",
    "\n",
    "class_imbalance = y_test.value_counts(normalize=True)[1]\n",
    "\n",
    "pu.plot_roc_and_pr_curves(fpr, tpr, recall, precision, class_imbalance = 0.3, figsize = (13, 3))"
   ]
  },
  {
   "cell_type": "markdown",
   "metadata": {},
   "source": [
    "## Classification threshold selection"
   ]
  },
  {
   "cell_type": "markdown",
   "metadata": {},
   "source": [
    "Let's select the threshold based on how it can affect the company's bottom line. We estimate this by considering the number of correctly identified bad customers as positive returns and the number of lost, misclassified good customers.\n",
    "\n",
    "The outcome depends on the relative cost of acquiring a bad customer versus a good one. Since we lack information about the German Bank, I'll highlight two scenarios:\n",
    "\n",
    "1. If the loss from acquiring a bad customer equals the gain from acquiring a good one\n",
    "\n",
    "2. If acquiring a bad customer is five times more expensive than acquiring a good one"
   ]
  },
  {
   "cell_type": "code",
   "execution_count": 19,
   "metadata": {},
   "outputs": [],
   "source": [
    "n_good_clients = (y_test == 0).sum()\n",
    "n_bad_clients = (y_test == 1).sum()\n",
    "\n",
    "res = pd.DataFrame()\n",
    "for threshold in np.linspace(0.0, 1.0, 11).tolist():\n",
    "    pred = (y_pred_proba >= threshold).astype(int)\n",
    "    tp = ((pred == 1) & (y_test == 1)).sum()\n",
    "    tn = ((pred == 0) & (y_test == 0)).sum()\n",
    "    fp = ((pred == 1) & (y_test == 0)).sum()\n",
    "\n",
    "    precision = tp / (tp + fp)\n",
    "    specificity = tn / n_good_clients\n",
    "    sensitivity = tp / n_bad_clients\n",
    "\n",
    "    row = pd.DataFrame({ \n",
    "        'thres': threshold, 'precision': 100*precision, 'recall/sensitivity': 100*sensitivity,\n",
    "        'specificity': 100*specificity, 'lost_good_clients': fp, 'avoided_bad_clients': tp\n",
    "        }, index=[0])\n",
    "\n",
    "    res = pd.concat([res, row]).reset_index(drop=True)\n",
    "    if sensitivity == 0: break\n",
    "res = res.round(2)"
   ]
  },
  {
   "cell_type": "markdown",
   "metadata": {},
   "source": [
    "### Scenario 1"
   ]
  },
  {
   "cell_type": "code",
   "execution_count": 20,
   "metadata": {},
   "outputs": [
    {
     "data": {
      "text/html": [
       "<div>\n",
       "<style scoped>\n",
       "    .dataframe tbody tr th:only-of-type {\n",
       "        vertical-align: middle;\n",
       "    }\n",
       "\n",
       "    .dataframe tbody tr th {\n",
       "        vertical-align: top;\n",
       "    }\n",
       "\n",
       "    .dataframe thead th {\n",
       "        text-align: right;\n",
       "    }\n",
       "</style>\n",
       "<table border=\"1\" class=\"dataframe\">\n",
       "  <thead>\n",
       "    <tr style=\"text-align: right;\">\n",
       "      <th></th>\n",
       "      <th>thres</th>\n",
       "      <th>precision</th>\n",
       "      <th>recall/sensitivity</th>\n",
       "      <th>specificity</th>\n",
       "      <th>lost_good_clients</th>\n",
       "      <th>avoided_bad_clients</th>\n",
       "      <th>expected_return</th>\n",
       "      <th>bottom_line</th>\n",
       "    </tr>\n",
       "  </thead>\n",
       "  <tbody>\n",
       "    <tr>\n",
       "      <th>0</th>\n",
       "      <td>0.0</td>\n",
       "      <td>30.00</td>\n",
       "      <td>100.00</td>\n",
       "      <td>0.00</td>\n",
       "      <td>140</td>\n",
       "      <td>60</td>\n",
       "      <td>-80</td>\n",
       "      <td>0</td>\n",
       "    </tr>\n",
       "    <tr>\n",
       "      <th>1</th>\n",
       "      <td>0.1</td>\n",
       "      <td>32.57</td>\n",
       "      <td>95.00</td>\n",
       "      <td>15.71</td>\n",
       "      <td>118</td>\n",
       "      <td>57</td>\n",
       "      <td>-61</td>\n",
       "      <td>19</td>\n",
       "    </tr>\n",
       "    <tr>\n",
       "      <th>2</th>\n",
       "      <td>0.2</td>\n",
       "      <td>44.07</td>\n",
       "      <td>86.67</td>\n",
       "      <td>52.86</td>\n",
       "      <td>66</td>\n",
       "      <td>52</td>\n",
       "      <td>-14</td>\n",
       "      <td>66</td>\n",
       "    </tr>\n",
       "    <tr>\n",
       "      <th>3</th>\n",
       "      <td>0.3</td>\n",
       "      <td>50.55</td>\n",
       "      <td>76.67</td>\n",
       "      <td>67.86</td>\n",
       "      <td>45</td>\n",
       "      <td>46</td>\n",
       "      <td>1</td>\n",
       "      <td>81</td>\n",
       "    </tr>\n",
       "    <tr>\n",
       "      <th>4</th>\n",
       "      <td>0.4</td>\n",
       "      <td>54.69</td>\n",
       "      <td>58.33</td>\n",
       "      <td>79.29</td>\n",
       "      <td>29</td>\n",
       "      <td>35</td>\n",
       "      <td>6</td>\n",
       "      <td>86</td>\n",
       "    </tr>\n",
       "    <tr>\n",
       "      <th>5</th>\n",
       "      <td>0.5</td>\n",
       "      <td>64.29</td>\n",
       "      <td>45.00</td>\n",
       "      <td>89.29</td>\n",
       "      <td>15</td>\n",
       "      <td>27</td>\n",
       "      <td>12</td>\n",
       "      <td>92</td>\n",
       "    </tr>\n",
       "    <tr>\n",
       "      <th>6</th>\n",
       "      <td>0.6</td>\n",
       "      <td>89.47</td>\n",
       "      <td>28.33</td>\n",
       "      <td>98.57</td>\n",
       "      <td>2</td>\n",
       "      <td>17</td>\n",
       "      <td>15</td>\n",
       "      <td>95</td>\n",
       "    </tr>\n",
       "    <tr>\n",
       "      <th>7</th>\n",
       "      <td>0.7</td>\n",
       "      <td>100.00</td>\n",
       "      <td>6.67</td>\n",
       "      <td>100.00</td>\n",
       "      <td>0</td>\n",
       "      <td>4</td>\n",
       "      <td>4</td>\n",
       "      <td>84</td>\n",
       "    </tr>\n",
       "    <tr>\n",
       "      <th>8</th>\n",
       "      <td>0.8</td>\n",
       "      <td>NaN</td>\n",
       "      <td>0.00</td>\n",
       "      <td>100.00</td>\n",
       "      <td>0</td>\n",
       "      <td>0</td>\n",
       "      <td>0</td>\n",
       "      <td>80</td>\n",
       "    </tr>\n",
       "  </tbody>\n",
       "</table>\n",
       "</div>"
      ],
      "text/plain": [
       "   thres  precision  recall/sensitivity  specificity  lost_good_clients  \\\n",
       "0    0.0      30.00              100.00         0.00                140   \n",
       "1    0.1      32.57               95.00        15.71                118   \n",
       "2    0.2      44.07               86.67        52.86                 66   \n",
       "3    0.3      50.55               76.67        67.86                 45   \n",
       "4    0.4      54.69               58.33        79.29                 29   \n",
       "5    0.5      64.29               45.00        89.29                 15   \n",
       "6    0.6      89.47               28.33        98.57                  2   \n",
       "7    0.7     100.00                6.67       100.00                  0   \n",
       "8    0.8        NaN                0.00       100.00                  0   \n",
       "\n",
       "   avoided_bad_clients  expected_return  bottom_line  \n",
       "0                   60              -80            0  \n",
       "1                   57              -61           19  \n",
       "2                   52              -14           66  \n",
       "3                   46                1           81  \n",
       "4                   35                6           86  \n",
       "5                   27               12           92  \n",
       "6                   17               15           95  \n",
       "7                    4                4           84  \n",
       "8                    0                0           80  "
      ]
     },
     "metadata": {},
     "output_type": "display_data"
    },
    {
     "name": "stdout",
     "output_type": "stream",
     "text": [
      "Total number of GOOD clients in the test set: 140\n",
      "Total number of BAD clients in the test set:  60\n"
     ]
    }
   ],
   "source": [
    "res['expected_return'] = res['avoided_bad_clients'] - res['lost_good_clients']\n",
    "res['bottom_line'] = n_good_clients - res.lost_good_clients - (n_bad_clients - res.avoided_bad_clients)\n",
    "display(res)\n",
    "print('Total number of GOOD clients in the test set:', n_good_clients)\n",
    "print('Total number of BAD clients in the test set: ', n_bad_clients)"
   ]
  },
  {
   "cell_type": "markdown",
   "metadata": {},
   "source": [
    "We can observe the following:\n",
    "\n",
    "- The last row illustrates the company's default scenario without any model. In this situation, the company's bottom line stands at 80, where 1 represents the expected net return of a good customer.\n",
    "\n",
    "- On the other extreme, the first row represents the case where every customer is prevented. In this scenario, the model's expected return is to prevent all returns, resulting in a bottom line of zero.\n",
    "\n",
    "- By setting a threshold of 0.6, we avoid 18 bad customers but lose 7 good ones, leading to an expected return of 15. This represents an 19% increase in the company's bottom line compared to not using any model."
   ]
  },
  {
   "cell_type": "markdown",
   "metadata": {},
   "source": [
    "### Scenario 2"
   ]
  },
  {
   "cell_type": "code",
   "execution_count": 21,
   "metadata": {},
   "outputs": [
    {
     "data": {
      "text/html": [
       "<div>\n",
       "<style scoped>\n",
       "    .dataframe tbody tr th:only-of-type {\n",
       "        vertical-align: middle;\n",
       "    }\n",
       "\n",
       "    .dataframe tbody tr th {\n",
       "        vertical-align: top;\n",
       "    }\n",
       "\n",
       "    .dataframe thead th {\n",
       "        text-align: right;\n",
       "    }\n",
       "</style>\n",
       "<table border=\"1\" class=\"dataframe\">\n",
       "  <thead>\n",
       "    <tr style=\"text-align: right;\">\n",
       "      <th></th>\n",
       "      <th>thres</th>\n",
       "      <th>precision</th>\n",
       "      <th>recall/sensitivity</th>\n",
       "      <th>specificity</th>\n",
       "      <th>lost_good_clients</th>\n",
       "      <th>avoided_bad_clients</th>\n",
       "      <th>expected_return</th>\n",
       "      <th>loss</th>\n",
       "      <th>gain</th>\n",
       "      <th>bottom_line</th>\n",
       "    </tr>\n",
       "  </thead>\n",
       "  <tbody>\n",
       "    <tr>\n",
       "      <th>0</th>\n",
       "      <td>0.0</td>\n",
       "      <td>30.00</td>\n",
       "      <td>100.00</td>\n",
       "      <td>0.00</td>\n",
       "      <td>140</td>\n",
       "      <td>60</td>\n",
       "      <td>160</td>\n",
       "      <td>140</td>\n",
       "      <td>300</td>\n",
       "      <td>0</td>\n",
       "    </tr>\n",
       "    <tr>\n",
       "      <th>1</th>\n",
       "      <td>0.1</td>\n",
       "      <td>32.57</td>\n",
       "      <td>95.00</td>\n",
       "      <td>15.71</td>\n",
       "      <td>118</td>\n",
       "      <td>57</td>\n",
       "      <td>167</td>\n",
       "      <td>118</td>\n",
       "      <td>285</td>\n",
       "      <td>7</td>\n",
       "    </tr>\n",
       "    <tr>\n",
       "      <th>2</th>\n",
       "      <td>0.2</td>\n",
       "      <td>44.07</td>\n",
       "      <td>86.67</td>\n",
       "      <td>52.86</td>\n",
       "      <td>66</td>\n",
       "      <td>52</td>\n",
       "      <td>194</td>\n",
       "      <td>66</td>\n",
       "      <td>260</td>\n",
       "      <td>34</td>\n",
       "    </tr>\n",
       "    <tr>\n",
       "      <th>3</th>\n",
       "      <td>0.3</td>\n",
       "      <td>50.55</td>\n",
       "      <td>76.67</td>\n",
       "      <td>67.86</td>\n",
       "      <td>45</td>\n",
       "      <td>46</td>\n",
       "      <td>185</td>\n",
       "      <td>45</td>\n",
       "      <td>230</td>\n",
       "      <td>25</td>\n",
       "    </tr>\n",
       "    <tr>\n",
       "      <th>4</th>\n",
       "      <td>0.4</td>\n",
       "      <td>54.69</td>\n",
       "      <td>58.33</td>\n",
       "      <td>79.29</td>\n",
       "      <td>29</td>\n",
       "      <td>35</td>\n",
       "      <td>146</td>\n",
       "      <td>29</td>\n",
       "      <td>175</td>\n",
       "      <td>-14</td>\n",
       "    </tr>\n",
       "    <tr>\n",
       "      <th>5</th>\n",
       "      <td>0.5</td>\n",
       "      <td>64.29</td>\n",
       "      <td>45.00</td>\n",
       "      <td>89.29</td>\n",
       "      <td>15</td>\n",
       "      <td>27</td>\n",
       "      <td>120</td>\n",
       "      <td>15</td>\n",
       "      <td>135</td>\n",
       "      <td>-40</td>\n",
       "    </tr>\n",
       "    <tr>\n",
       "      <th>6</th>\n",
       "      <td>0.6</td>\n",
       "      <td>89.47</td>\n",
       "      <td>28.33</td>\n",
       "      <td>98.57</td>\n",
       "      <td>2</td>\n",
       "      <td>17</td>\n",
       "      <td>83</td>\n",
       "      <td>2</td>\n",
       "      <td>85</td>\n",
       "      <td>-77</td>\n",
       "    </tr>\n",
       "    <tr>\n",
       "      <th>7</th>\n",
       "      <td>0.7</td>\n",
       "      <td>100.00</td>\n",
       "      <td>6.67</td>\n",
       "      <td>100.00</td>\n",
       "      <td>0</td>\n",
       "      <td>4</td>\n",
       "      <td>20</td>\n",
       "      <td>0</td>\n",
       "      <td>20</td>\n",
       "      <td>-140</td>\n",
       "    </tr>\n",
       "    <tr>\n",
       "      <th>8</th>\n",
       "      <td>0.8</td>\n",
       "      <td>NaN</td>\n",
       "      <td>0.00</td>\n",
       "      <td>100.00</td>\n",
       "      <td>0</td>\n",
       "      <td>0</td>\n",
       "      <td>0</td>\n",
       "      <td>0</td>\n",
       "      <td>0</td>\n",
       "      <td>-160</td>\n",
       "    </tr>\n",
       "  </tbody>\n",
       "</table>\n",
       "</div>"
      ],
      "text/plain": [
       "   thres  precision  recall/sensitivity  specificity  lost_good_clients  \\\n",
       "0    0.0      30.00              100.00         0.00                140   \n",
       "1    0.1      32.57               95.00        15.71                118   \n",
       "2    0.2      44.07               86.67        52.86                 66   \n",
       "3    0.3      50.55               76.67        67.86                 45   \n",
       "4    0.4      54.69               58.33        79.29                 29   \n",
       "5    0.5      64.29               45.00        89.29                 15   \n",
       "6    0.6      89.47               28.33        98.57                  2   \n",
       "7    0.7     100.00                6.67       100.00                  0   \n",
       "8    0.8        NaN                0.00       100.00                  0   \n",
       "\n",
       "   avoided_bad_clients  expected_return  loss  gain  bottom_line  \n",
       "0                   60              160   140   300            0  \n",
       "1                   57              167   118   285            7  \n",
       "2                   52              194    66   260           34  \n",
       "3                   46              185    45   230           25  \n",
       "4                   35              146    29   175          -14  \n",
       "5                   27              120    15   135          -40  \n",
       "6                   17               83     2    85          -77  \n",
       "7                    4               20     0    20         -140  \n",
       "8                    0                0     0     0         -160  "
      ]
     },
     "execution_count": 21,
     "metadata": {},
     "output_type": "execute_result"
    }
   ],
   "source": [
    "bad_client_cost = 5\n",
    "\n",
    "res_ = res.drop('bottom_line', axis = 1)\n",
    "res_['loss'] = res_.lost_good_clients \n",
    "res_['gain'] = res_.avoided_bad_clients*bad_client_cost\n",
    "res_['expected_return'] = res_.gain - res_.loss\n",
    "\n",
    "res_['bottom_line'] = (n_good_clients - res_.lost_good_clients \n",
    "                                - bad_client_cost*(n_bad_clients - res_.avoided_bad_clients))\n",
    "res_"
   ]
  },
  {
   "cell_type": "markdown",
   "metadata": {},
   "source": [
    "In this extreme scenario, where bad customers are significantly more costly:\n",
    "\n",
    "- Not using any model results in a negative bottom line due to 140 good customers and 60 bad customers, each five times as costly as a good one.\n",
    "\n",
    "- The optimal threshold choice is now 0.2, much lower than in the previous case.\n",
    "\n",
    "- Achieving higher recall is crucial given the high cost of bad customers.\n",
    "\n",
    "- Selecting the previous threshold would still benefit the company compared to no model but is far from optimal.\n",
    "\n",
    "- The company's profitability hinges on the model and the threshold choice in this context."
   ]
  },
  {
   "cell_type": "markdown",
   "metadata": {},
   "source": [
    "### Notes\n",
    "There are some relevant assumptions to the calculation above. Most relevantly:\n",
    "- It assumes that the bad to good customer ratio of 0.3 represents the customers's real customer base well. The threshold choice is sensible to this variable and this should be taken into account when selecting it\n",
    "\n",
    "- There's a hidden assumption that the expected return of good customers that get misclassified by the model is the same as that of general good customers. But the model can be biased to misclassifying specific groups of customers. The above calculation could still be done in this case but this has to be accounted for"
   ]
  }
 ],
 "metadata": {
  "kernelspec": {
   "display_name": "Python 3",
   "language": "python",
   "name": "python3"
  },
  "language_info": {
   "codemirror_mode": {
    "name": "ipython",
    "version": 3
   },
   "file_extension": ".py",
   "mimetype": "text/x-python",
   "name": "python",
   "nbconvert_exporter": "python",
   "pygments_lexer": "ipython3",
   "version": "3.11.5"
  },
  "orig_nbformat": 4
 },
 "nbformat": 4,
 "nbformat_minor": 2
}
