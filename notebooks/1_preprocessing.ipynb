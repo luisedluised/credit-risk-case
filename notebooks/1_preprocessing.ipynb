{
 "cells": [
  {
   "cell_type": "code",
   "execution_count": 64,
   "metadata": {},
   "outputs": [],
   "source": [
    "import pandas as pd\n",
    "import numpy as np\n",
    "import matplotlib.pyplot as plt\n",
    "import seaborn as sns\n",
    "from warnings import filterwarnings\n",
    "filterwarnings('ignore')\n",
    "\n",
    "from sklearn.model_selection import train_test_split\n",
    "from sklearn.metrics import roc_auc_score\n",
    "from sklearn.metrics import precision_recall_curve\n",
    "from sklearn.metrics import f1_score\n",
    "\n",
    "import lightgbm as lgb"
   ]
  },
  {
   "cell_type": "code",
   "execution_count": 65,
   "metadata": {},
   "outputs": [],
   "source": [
    "from scipy.stats import pearsonr"
   ]
  },
  {
   "cell_type": "code",
   "execution_count": 66,
   "metadata": {},
   "outputs": [],
   "source": [
    "df = pd.read_csv('../data/german_credit_data.csv')\n",
    "df = df.drop(['Unnamed: 0'], axis=1)\n",
    "df.columns = [x.lower().replace(' ', '_') for x in df.columns]"
   ]
  },
  {
   "cell_type": "code",
   "execution_count": 67,
   "metadata": {},
   "outputs": [],
   "source": [
    "job_dic = {\n",
    "    0: 'unskilled non res',\n",
    "    1: 'unskilled resident',\n",
    "    2: 'skilled',\n",
    "    3: 'highly skilled'\n",
    "}\n",
    "df.job = df.job.map(job_dic)"
   ]
  },
  {
   "cell_type": "code",
   "execution_count": 68,
   "metadata": {},
   "outputs": [
    {
     "data": {
      "text/html": [
       "<div>\n",
       "<style scoped>\n",
       "    .dataframe tbody tr th:only-of-type {\n",
       "        vertical-align: middle;\n",
       "    }\n",
       "\n",
       "    .dataframe tbody tr th {\n",
       "        vertical-align: top;\n",
       "    }\n",
       "\n",
       "    .dataframe thead th {\n",
       "        text-align: right;\n",
       "    }\n",
       "</style>\n",
       "<table border=\"1\" class=\"dataframe\">\n",
       "  <thead>\n",
       "    <tr style=\"text-align: right;\">\n",
       "      <th></th>\n",
       "      <th>age</th>\n",
       "      <th>sex</th>\n",
       "      <th>job</th>\n",
       "      <th>housing</th>\n",
       "      <th>saving_accounts</th>\n",
       "      <th>checking_account</th>\n",
       "      <th>credit_amount</th>\n",
       "      <th>duration</th>\n",
       "      <th>purpose</th>\n",
       "      <th>risk</th>\n",
       "      <th>target</th>\n",
       "    </tr>\n",
       "  </thead>\n",
       "  <tbody>\n",
       "    <tr>\n",
       "      <th>395</th>\n",
       "      <td>32</td>\n",
       "      <td>male</td>\n",
       "      <td>skilled</td>\n",
       "      <td>rent</td>\n",
       "      <td>moderate</td>\n",
       "      <td>moderate</td>\n",
       "      <td>11760</td>\n",
       "      <td>39</td>\n",
       "      <td>education</td>\n",
       "      <td>good</td>\n",
       "      <td>0</td>\n",
       "    </tr>\n",
       "    <tr>\n",
       "      <th>26</th>\n",
       "      <td>39</td>\n",
       "      <td>male</td>\n",
       "      <td>unskilled resident</td>\n",
       "      <td>own</td>\n",
       "      <td>little</td>\n",
       "      <td>undefined</td>\n",
       "      <td>426</td>\n",
       "      <td>6</td>\n",
       "      <td>radio/TV</td>\n",
       "      <td>good</td>\n",
       "      <td>0</td>\n",
       "    </tr>\n",
       "    <tr>\n",
       "      <th>199</th>\n",
       "      <td>40</td>\n",
       "      <td>male</td>\n",
       "      <td>highly skilled</td>\n",
       "      <td>own</td>\n",
       "      <td>little</td>\n",
       "      <td>moderate</td>\n",
       "      <td>4297</td>\n",
       "      <td>18</td>\n",
       "      <td>furniture/equipment</td>\n",
       "      <td>bad</td>\n",
       "      <td>1</td>\n",
       "    </tr>\n",
       "  </tbody>\n",
       "</table>\n",
       "</div>"
      ],
      "text/plain": [
       "     age   sex                 job housing saving_accounts checking_account  \\\n",
       "395   32  male             skilled    rent        moderate         moderate   \n",
       "26    39  male  unskilled resident     own          little        undefined   \n",
       "199   40  male      highly skilled     own          little         moderate   \n",
       "\n",
       "     credit_amount  duration              purpose  risk  target  \n",
       "395          11760        39            education  good       0  \n",
       "26             426         6             radio/TV  good       0  \n",
       "199           4297        18  furniture/equipment   bad       1  "
      ]
     },
     "execution_count": 68,
     "metadata": {},
     "output_type": "execute_result"
    }
   ],
   "source": [
    "numerical_features = ['age', 'credit_amount', 'duration']\n",
    "categorical_features = ['sex', 'job', 'housing', 'saving_accounts', 'checking_account', 'purpose']\n",
    "df = df.fillna('undefined') ## we are treating indefinitions are new categories as they have strong relations with target\n",
    "df['target'] = (df.risk == 'bad').astype(int)\n",
    "df.sample(3)"
   ]
  },
  {
   "cell_type": "markdown",
   "metadata": {},
   "source": [
    "## Feature creation"
   ]
  },
  {
   "cell_type": "markdown",
   "metadata": {},
   "source": [
    "The main idea here is to find \"good indicators\" and \"bad indicators\".\n",
    "- A customer having a bad indicator means \"being in a group that is an evidence of the customer being bad. For instance, having high credit duration as we saw on eda\n",
    "\n",
    "- Good indicator is the opposite of above\n",
    "\n",
    "- The indicators will be found by calculating the correlation between the group and target\n",
    "\n",
    "- Examples of group are: \"rich saving_accounts\" or \"90th percentile credit_amount\"\n",
    "\n",
    "- I decided to use pearson correlation above 0.1 here, though this can be tuned"
   ]
  },
  {
   "cell_type": "code",
   "execution_count": 69,
   "metadata": {},
   "outputs": [],
   "source": [
    "top_quantiles_space = np.linspace(.1, 0.9, 9)\n",
    "\n",
    "numerical_frame = pd.DataFrame()\n",
    "for feature in numerical_features:\n",
    "    for q in top_quantiles_space:\n",
    "        value = df[feature].quantile(q)\n",
    "\n",
    "        evaluation_series = (df[feature] >= value)\n",
    "        r, p = pearsonr(df.target, evaluation_series)\n",
    "        numerical_frame = pd.concat([numerical_frame, pd.DataFrame({\n",
    "            'feature': feature, 'operation':'bigger than', 'quantile': q, 'pearsonr': r, 'value':value}, index=[0])])\n",
    "        \n",
    "        evaluation_series = (df[feature] <= value)\n",
    "        r, p = pearsonr(df.target, evaluation_series)\n",
    "        numerical_frame = pd.concat([numerical_frame, pd.DataFrame({\n",
    "            'feature': feature, 'operation':'smaller than', 'quantile': q, 'pearsonr': r, 'value':value}, index=[0])])\n",
    "\n",
    "categorical_frame = pd.DataFrame()\n",
    "for feature in categorical_features:\n",
    "    for category in df[feature].unique():\n",
    "        evaluation_series = (df[feature] == category)\n",
    "        r, p = pearsonr(df.target, evaluation_series)\n",
    "        categorical_frame = pd.concat([categorical_frame, pd.DataFrame({\n",
    "            'feature': feature, 'value': category, 'pearsonr': r}, index=[0])])"
   ]
  },
  {
   "cell_type": "code",
   "execution_count": 70,
   "metadata": {},
   "outputs": [
    {
     "data": {
      "text/html": [
       "<div>\n",
       "<style scoped>\n",
       "    .dataframe tbody tr th:only-of-type {\n",
       "        vertical-align: middle;\n",
       "    }\n",
       "\n",
       "    .dataframe tbody tr th {\n",
       "        vertical-align: top;\n",
       "    }\n",
       "\n",
       "    .dataframe thead th {\n",
       "        text-align: right;\n",
       "    }\n",
       "</style>\n",
       "<table border=\"1\" class=\"dataframe\">\n",
       "  <thead>\n",
       "    <tr style=\"text-align: right;\">\n",
       "      <th></th>\n",
       "      <th>feature</th>\n",
       "      <th>value</th>\n",
       "      <th>pearsonr</th>\n",
       "    </tr>\n",
       "  </thead>\n",
       "  <tbody>\n",
       "    <tr>\n",
       "      <th>0</th>\n",
       "      <td>sex</td>\n",
       "      <td>male</td>\n",
       "      <td>-0.075493</td>\n",
       "    </tr>\n",
       "    <tr>\n",
       "      <th>0</th>\n",
       "      <td>sex</td>\n",
       "      <td>female</td>\n",
       "      <td>0.075493</td>\n",
       "    </tr>\n",
       "    <tr>\n",
       "      <th>0</th>\n",
       "      <td>job</td>\n",
       "      <td>skilled</td>\n",
       "      <td>-0.013559</td>\n",
       "    </tr>\n",
       "    <tr>\n",
       "      <th>0</th>\n",
       "      <td>job</td>\n",
       "      <td>unskilled resident</td>\n",
       "      <td>-0.021822</td>\n",
       "    </tr>\n",
       "    <tr>\n",
       "      <th>0</th>\n",
       "      <td>job</td>\n",
       "      <td>highly skilled</td>\n",
       "      <td>0.040559</td>\n",
       "    </tr>\n",
       "  </tbody>\n",
       "</table>\n",
       "</div>"
      ],
      "text/plain": [
       "  feature               value  pearsonr\n",
       "0     sex                male -0.075493\n",
       "0     sex              female  0.075493\n",
       "0     job             skilled -0.013559\n",
       "0     job  unskilled resident -0.021822\n",
       "0     job      highly skilled  0.040559"
      ]
     },
     "metadata": {},
     "output_type": "display_data"
    },
    {
     "data": {
      "text/html": [
       "<div>\n",
       "<style scoped>\n",
       "    .dataframe tbody tr th:only-of-type {\n",
       "        vertical-align: middle;\n",
       "    }\n",
       "\n",
       "    .dataframe tbody tr th {\n",
       "        vertical-align: top;\n",
       "    }\n",
       "\n",
       "    .dataframe thead th {\n",
       "        text-align: right;\n",
       "    }\n",
       "</style>\n",
       "<table border=\"1\" class=\"dataframe\">\n",
       "  <thead>\n",
       "    <tr style=\"text-align: right;\">\n",
       "      <th></th>\n",
       "      <th>feature</th>\n",
       "      <th>operation</th>\n",
       "      <th>quantile</th>\n",
       "      <th>pearsonr</th>\n",
       "      <th>value</th>\n",
       "    </tr>\n",
       "  </thead>\n",
       "  <tbody>\n",
       "    <tr>\n",
       "      <th>0</th>\n",
       "      <td>age</td>\n",
       "      <td>bigger than</td>\n",
       "      <td>0.1</td>\n",
       "      <td>-0.046120</td>\n",
       "      <td>23.0</td>\n",
       "    </tr>\n",
       "    <tr>\n",
       "      <th>0</th>\n",
       "      <td>age</td>\n",
       "      <td>smaller than</td>\n",
       "      <td>0.1</td>\n",
       "      <td>0.074744</td>\n",
       "      <td>23.0</td>\n",
       "    </tr>\n",
       "    <tr>\n",
       "      <th>0</th>\n",
       "      <td>age</td>\n",
       "      <td>bigger than</td>\n",
       "      <td>0.2</td>\n",
       "      <td>-0.127938</td>\n",
       "      <td>26.0</td>\n",
       "    </tr>\n",
       "    <tr>\n",
       "      <th>0</th>\n",
       "      <td>age</td>\n",
       "      <td>smaller than</td>\n",
       "      <td>0.2</td>\n",
       "      <td>0.112409</td>\n",
       "      <td>26.0</td>\n",
       "    </tr>\n",
       "    <tr>\n",
       "      <th>0</th>\n",
       "      <td>age</td>\n",
       "      <td>bigger than</td>\n",
       "      <td>0.3</td>\n",
       "      <td>-0.094643</td>\n",
       "      <td>28.0</td>\n",
       "    </tr>\n",
       "  </tbody>\n",
       "</table>\n",
       "</div>"
      ],
      "text/plain": [
       "  feature     operation  quantile  pearsonr  value\n",
       "0     age   bigger than       0.1 -0.046120   23.0\n",
       "0     age  smaller than       0.1  0.074744   23.0\n",
       "0     age   bigger than       0.2 -0.127938   26.0\n",
       "0     age  smaller than       0.2  0.112409   26.0\n",
       "0     age   bigger than       0.3 -0.094643   28.0"
      ]
     },
     "metadata": {},
     "output_type": "display_data"
    },
    {
     "name": "stdout",
     "output_type": "stream",
     "text": [
      "Above are examples of potential indicators. Most of them don't cut it (<10% correlation), but we'll filter them below\n"
     ]
    }
   ],
   "source": [
    "display(categorical_frame.head(5))\n",
    "display(numerical_frame.head(5))\n",
    "print(\"Above are examples of potential indicators. Most of them don't cut it (<10% correlation), but we'll filter them below\")"
   ]
  },
  {
   "cell_type": "code",
   "execution_count": 71,
   "metadata": {},
   "outputs": [
    {
     "name": "stdout",
     "output_type": "stream",
     "text": [
      "5 examples of negative indicators:\n"
     ]
    },
    {
     "data": {
      "text/html": [
       "<div>\n",
       "<style scoped>\n",
       "    .dataframe tbody tr th:only-of-type {\n",
       "        vertical-align: middle;\n",
       "    }\n",
       "\n",
       "    .dataframe tbody tr th {\n",
       "        vertical-align: top;\n",
       "    }\n",
       "\n",
       "    .dataframe thead th {\n",
       "        text-align: right;\n",
       "    }\n",
       "</style>\n",
       "<table border=\"1\" class=\"dataframe\">\n",
       "  <thead>\n",
       "    <tr style=\"text-align: right;\">\n",
       "      <th></th>\n",
       "      <th>feature</th>\n",
       "      <th>operation</th>\n",
       "      <th>quantile</th>\n",
       "      <th>pearsonr</th>\n",
       "      <th>value</th>\n",
       "    </tr>\n",
       "  </thead>\n",
       "  <tbody>\n",
       "    <tr>\n",
       "      <th>0</th>\n",
       "      <td>age</td>\n",
       "      <td>smaller than</td>\n",
       "      <td>0.2</td>\n",
       "      <td>0.112409</td>\n",
       "      <td>26.0</td>\n",
       "    </tr>\n",
       "    <tr>\n",
       "      <th>0</th>\n",
       "      <td>age</td>\n",
       "      <td>smaller than</td>\n",
       "      <td>0.3</td>\n",
       "      <td>0.100864</td>\n",
       "      <td>28.0</td>\n",
       "    </tr>\n",
       "    <tr>\n",
       "      <th>0</th>\n",
       "      <td>age</td>\n",
       "      <td>smaller than</td>\n",
       "      <td>0.4</td>\n",
       "      <td>0.109549</td>\n",
       "      <td>30.0</td>\n",
       "    </tr>\n",
       "    <tr>\n",
       "      <th>0</th>\n",
       "      <td>age</td>\n",
       "      <td>smaller than</td>\n",
       "      <td>0.5</td>\n",
       "      <td>0.114405</td>\n",
       "      <td>33.0</td>\n",
       "    </tr>\n",
       "    <tr>\n",
       "      <th>0</th>\n",
       "      <td>credit_amount</td>\n",
       "      <td>bigger than</td>\n",
       "      <td>0.7</td>\n",
       "      <td>0.112750</td>\n",
       "      <td>3590.0</td>\n",
       "    </tr>\n",
       "  </tbody>\n",
       "</table>\n",
       "</div>"
      ],
      "text/plain": [
       "         feature     operation  quantile  pearsonr   value\n",
       "0            age  smaller than       0.2  0.112409    26.0\n",
       "0            age  smaller than       0.3  0.100864    28.0\n",
       "0            age  smaller than       0.4  0.109549    30.0\n",
       "0            age  smaller than       0.5  0.114405    33.0\n",
       "0  credit_amount   bigger than       0.7  0.112750  3590.0"
      ]
     },
     "metadata": {},
     "output_type": "display_data"
    },
    {
     "name": "stdout",
     "output_type": "stream",
     "text": [
      "For each feature I will take the broadest quantile that fits the condition:\n"
     ]
    },
    {
     "data": {
      "text/html": [
       "<div>\n",
       "<style scoped>\n",
       "    .dataframe tbody tr th:only-of-type {\n",
       "        vertical-align: middle;\n",
       "    }\n",
       "\n",
       "    .dataframe tbody tr th {\n",
       "        vertical-align: top;\n",
       "    }\n",
       "\n",
       "    .dataframe thead th {\n",
       "        text-align: right;\n",
       "    }\n",
       "</style>\n",
       "<table border=\"1\" class=\"dataframe\">\n",
       "  <thead>\n",
       "    <tr style=\"text-align: right;\">\n",
       "      <th></th>\n",
       "      <th>feature</th>\n",
       "      <th>operation</th>\n",
       "      <th>quantile</th>\n",
       "      <th>pearsonr</th>\n",
       "      <th>value</th>\n",
       "    </tr>\n",
       "  </thead>\n",
       "  <tbody>\n",
       "    <tr>\n",
       "      <th>0</th>\n",
       "      <td>duration</td>\n",
       "      <td>bigger than</td>\n",
       "      <td>0.1</td>\n",
       "      <td>0.136092</td>\n",
       "      <td>9.0</td>\n",
       "    </tr>\n",
       "    <tr>\n",
       "      <th>0</th>\n",
       "      <td>age</td>\n",
       "      <td>smaller than</td>\n",
       "      <td>0.2</td>\n",
       "      <td>0.112409</td>\n",
       "      <td>26.0</td>\n",
       "    </tr>\n",
       "    <tr>\n",
       "      <th>0</th>\n",
       "      <td>credit_amount</td>\n",
       "      <td>bigger than</td>\n",
       "      <td>0.7</td>\n",
       "      <td>0.112750</td>\n",
       "      <td>3590.0</td>\n",
       "    </tr>\n",
       "  </tbody>\n",
       "</table>\n",
       "</div>"
      ],
      "text/plain": [
       "         feature     operation  quantile  pearsonr   value\n",
       "0       duration   bigger than       0.1  0.136092     9.0\n",
       "0            age  smaller than       0.2  0.112409    26.0\n",
       "0  credit_amount   bigger than       0.7  0.112750  3590.0"
      ]
     },
     "metadata": {},
     "output_type": "display_data"
    }
   ],
   "source": [
    "print('5 examples of negative indicators:')\n",
    "numerical_negative_indicators = numerical_frame[numerical_frame.pearsonr > 0.1]\n",
    "display(numerical_negative_indicators.head(5))\n",
    "print('For each feature I will take the broadest quantile that fits the condition:')\n",
    "numerical_negative_indicators = numerical_negative_indicators.sort_values('quantile').drop_duplicates(['feature', 'operation'], keep='first')\n",
    "display(numerical_negative_indicators.head(5))"
   ]
  },
  {
   "cell_type": "code",
   "execution_count": 72,
   "metadata": {},
   "outputs": [
    {
     "name": "stdout",
     "output_type": "stream",
     "text": [
      "For categorical variables, I just select r > 0.1\n"
     ]
    },
    {
     "data": {
      "text/html": [
       "<div>\n",
       "<style scoped>\n",
       "    .dataframe tbody tr th:only-of-type {\n",
       "        vertical-align: middle;\n",
       "    }\n",
       "\n",
       "    .dataframe tbody tr th {\n",
       "        vertical-align: top;\n",
       "    }\n",
       "\n",
       "    .dataframe thead th {\n",
       "        text-align: right;\n",
       "    }\n",
       "</style>\n",
       "<table border=\"1\" class=\"dataframe\">\n",
       "  <thead>\n",
       "    <tr style=\"text-align: right;\">\n",
       "      <th></th>\n",
       "      <th>feature</th>\n",
       "      <th>value</th>\n",
       "      <th>pearsonr</th>\n",
       "    </tr>\n",
       "  </thead>\n",
       "  <tbody>\n",
       "    <tr>\n",
       "      <th>0</th>\n",
       "      <td>saving_accounts</td>\n",
       "      <td>little</td>\n",
       "      <td>0.161007</td>\n",
       "    </tr>\n",
       "    <tr>\n",
       "      <th>0</th>\n",
       "      <td>checking_account</td>\n",
       "      <td>little</td>\n",
       "      <td>0.258333</td>\n",
       "    </tr>\n",
       "    <tr>\n",
       "      <th>0</th>\n",
       "      <td>checking_account</td>\n",
       "      <td>moderate</td>\n",
       "      <td>0.119581</td>\n",
       "    </tr>\n",
       "  </tbody>\n",
       "</table>\n",
       "</div>"
      ],
      "text/plain": [
       "            feature     value  pearsonr\n",
       "0   saving_accounts    little  0.161007\n",
       "0  checking_account    little  0.258333\n",
       "0  checking_account  moderate  0.119581"
      ]
     },
     "metadata": {},
     "output_type": "display_data"
    }
   ],
   "source": [
    "print('For categorical variables, I just select r > 0.1')\n",
    "categorical_negative_indicators = categorical_frame[categorical_frame.pearsonr > 0.1]\n",
    "display(categorical_negative_indicators.head(5))\n",
    "negative_indicators = pd.concat([numerical_negative_indicators, categorical_negative_indicators])"
   ]
  },
  {
   "cell_type": "code",
   "execution_count": 73,
   "metadata": {},
   "outputs": [],
   "source": [
    "numerical_positive_indicators = numerical_frame[numerical_frame.pearsonr < -0.1]\n",
    "numerical_positive_indicators = numerical_positive_indicators.sort_values('quantile').drop_duplicates(['feature', 'operation'], keep='first')\n",
    "categorical_positive_indicators = categorical_frame[categorical_frame.pearsonr < -0.1]\n",
    "positive_indicators = pd.concat([numerical_positive_indicators, categorical_positive_indicators])"
   ]
  },
  {
   "cell_type": "code",
   "execution_count": 74,
   "metadata": {},
   "outputs": [],
   "source": [
    "positive_indicators['type'] = 'positive_indicator'\n",
    "negative_indicators['type'] = 'negative_indicator'\n",
    "\n",
    "signs_conditions = pd.concat([positive_indicators, negative_indicators])\n",
    "signs_conditions = signs_conditions[['feature','operation','value', 'type']]\n",
    "signs_conditions.operation = signs_conditions.operation.fillna('equal to')"
   ]
  },
  {
   "cell_type": "markdown",
   "metadata": {},
   "source": [
    "#### Final table with positive and negative indicators, from numerical and categorical features:"
   ]
  },
  {
   "cell_type": "code",
   "execution_count": 75,
   "metadata": {},
   "outputs": [
    {
     "data": {
      "text/html": [
       "<div>\n",
       "<style scoped>\n",
       "    .dataframe tbody tr th:only-of-type {\n",
       "        vertical-align: middle;\n",
       "    }\n",
       "\n",
       "    .dataframe tbody tr th {\n",
       "        vertical-align: top;\n",
       "    }\n",
       "\n",
       "    .dataframe thead th {\n",
       "        text-align: right;\n",
       "    }\n",
       "</style>\n",
       "<table border=\"1\" class=\"dataframe\">\n",
       "  <thead>\n",
       "    <tr style=\"text-align: right;\">\n",
       "      <th></th>\n",
       "      <th>feature</th>\n",
       "      <th>operation</th>\n",
       "      <th>value</th>\n",
       "      <th>type</th>\n",
       "    </tr>\n",
       "  </thead>\n",
       "  <tbody>\n",
       "    <tr>\n",
       "      <th>0</th>\n",
       "      <td>checking_account</td>\n",
       "      <td>equal to</td>\n",
       "      <td>little</td>\n",
       "      <td>negative_indicator</td>\n",
       "    </tr>\n",
       "    <tr>\n",
       "      <th>0</th>\n",
       "      <td>credit_amount</td>\n",
       "      <td>bigger than</td>\n",
       "      <td>3590.0</td>\n",
       "      <td>negative_indicator</td>\n",
       "    </tr>\n",
       "    <tr>\n",
       "      <th>0</th>\n",
       "      <td>checking_account</td>\n",
       "      <td>equal to</td>\n",
       "      <td>moderate</td>\n",
       "      <td>negative_indicator</td>\n",
       "    </tr>\n",
       "    <tr>\n",
       "      <th>0</th>\n",
       "      <td>saving_accounts</td>\n",
       "      <td>equal to</td>\n",
       "      <td>little</td>\n",
       "      <td>negative_indicator</td>\n",
       "    </tr>\n",
       "    <tr>\n",
       "      <th>0</th>\n",
       "      <td>purpose</td>\n",
       "      <td>equal to</td>\n",
       "      <td>radio/TV</td>\n",
       "      <td>positive_indicator</td>\n",
       "    </tr>\n",
       "  </tbody>\n",
       "</table>\n",
       "</div>"
      ],
      "text/plain": [
       "            feature    operation     value                type\n",
       "0  checking_account     equal to    little  negative_indicator\n",
       "0     credit_amount  bigger than    3590.0  negative_indicator\n",
       "0  checking_account     equal to  moderate  negative_indicator\n",
       "0   saving_accounts     equal to    little  negative_indicator\n",
       "0           purpose     equal to  radio/TV  positive_indicator"
      ]
     },
     "execution_count": 75,
     "metadata": {},
     "output_type": "execute_result"
    }
   ],
   "source": [
    "signs_conditions.sample(5)"
   ]
  },
  {
   "cell_type": "code",
   "execution_count": 76,
   "metadata": {},
   "outputs": [
    {
     "data": {
      "text/plain": [
       "positive_indicator    7\n",
       "negative_indicator    6\n",
       "Name: type, dtype: int64"
      ]
     },
     "execution_count": 76,
     "metadata": {},
     "output_type": "execute_result"
    }
   ],
   "source": [
    "signs_conditions.type.value_counts()"
   ]
  },
  {
   "cell_type": "code",
   "execution_count": 77,
   "metadata": {},
   "outputs": [
    {
     "data": {
      "text/plain": [
       "equal to        7\n",
       "smaller than    3\n",
       "bigger than     3\n",
       "Name: operation, dtype: int64"
      ]
     },
     "execution_count": 77,
     "metadata": {},
     "output_type": "execute_result"
    }
   ],
   "source": [
    "signs_conditions.operation.value_counts()"
   ]
  },
  {
   "cell_type": "markdown",
   "metadata": {},
   "source": [
    "Now I'll count how many positive and negative indicators customers have:"
   ]
  },
  {
   "cell_type": "code",
   "execution_count": 78,
   "metadata": {},
   "outputs": [],
   "source": [
    "df['number_positive_indicators'] = 0\n",
    "df['number_negative_indicators'] = 0\n",
    "for condition in signs_conditions.iloc:\n",
    "    sign_type = condition.type ### good or bad\n",
    "    if condition.operation == 'bigger than':\n",
    "        df[f'number_{sign_type}s'] += (df[condition.feature] >= condition.value).astype(int)\n",
    "    elif condition.operation == 'smaller than':\n",
    "        df[f'number_{sign_type}s'] += (df[condition.feature] <= condition.value).astype(int)\n",
    "    else:\n",
    "        df[f'number_{sign_type}s'] += (df[condition.feature] == condition.value).astype(int)\n",
    "        \n",
    "df['good_bad_balance'] = df.number_positive_indicators - df.number_negative_indicators"
   ]
  },
  {
   "cell_type": "code",
   "execution_count": 79,
   "metadata": {},
   "outputs": [
    {
     "name": "stdout",
     "output_type": "stream",
     "text": [
      "PearsonRResult(statistic=-0.3484071684948514, pvalue=6.485868863202711e-30)\n",
      "PearsonRResult(statistic=0.3511348318683366, pvalue=2.175101419068473e-30)\n",
      "PearsonRResult(statistic=-0.37371518243864044, pvalue=1.6854356618569274e-34)\n"
     ]
    }
   ],
   "source": [
    "print(pearsonr(df.number_positive_indicators, df.target))\n",
    "print(pearsonr(df.number_negative_indicators, df.target))\n",
    "print(pearsonr(df.good_bad_balance, df.target))"
   ]
  },
  {
   "cell_type": "markdown",
   "metadata": {},
   "source": [
    "- Those are the biggest correlations I found on this dataset yet. But this doesn't mean much as these features are highly overfitted to this metric\n",
    "\n",
    "- In order to avoid data overfitting due to data leaking, this data processing will be done separately on training and testing sets\n",
    "\n",
    "- For this reason I put the code above on a .py file that will be used on modeling so we can add it to the ML pipelines"
   ]
  },
  {
   "cell_type": "markdown",
   "metadata": {},
   "source": [
    "### Categorical feature encoding"
   ]
  },
  {
   "cell_type": "markdown",
   "metadata": {},
   "source": [
    "- One-hot encoding creates many features, which can negatively affect performance in a small dataset like this one, and which is harder to tune\n",
    "\n",
    "- I won't use ordinal encoder and instead:\n",
    "\n",
    "- I will ordinally encode the classes but in a specific order: I will order categories by correlation to the target\n",
    "\n",
    "- For instance, if men are more risky than women, women will be 1 and men will be 2\n",
    "\n",
    "- This makes it easier for the dataset to be linearly separable and makes it easier for the model to learn\n",
    "\n",
    "- This is also prone to data leakage, so it will also be done separately on train/test set by adding it to the pipeline"
   ]
  },
  {
   "cell_type": "code",
   "execution_count": 80,
   "metadata": {},
   "outputs": [],
   "source": [
    "categorical_encoder_frame = pd.DataFrame()\n",
    "for feature in categorical_features:\n",
    "    for value in df[feature].unique():\n",
    "            evaluation_series = (df[feature] == value)\n",
    "            r, p = pearsonr(df.target, evaluation_series)\n",
    "            categorical_encoder_frame = pd.concat(\n",
    "                [categorical_encoder_frame, pd.DataFrame(\n",
    "                    {'feature': feature, 'value': value, 'pearsonr': r}, index=[0])])\n",
    "                    \n",
    "categorical_encoder_frame = categorical_encoder_frame.sort_values(['feature','pearsonr']\n",
    "    ).drop('pearsonr', axis=1).reset_index(drop=True)\n",
    "categorical_encoder_frame['encoded'] = 1\n",
    "categorical_encoder_frame.encoded = categorical_encoder_frame.groupby('feature').encoded.cumsum()"
   ]
  },
  {
   "cell_type": "code",
   "execution_count": 81,
   "metadata": {},
   "outputs": [],
   "source": [
    "for feature in categorical_features:\n",
    "    encoding_dic = categorical_encoder_frame[categorical_encoder_frame.feature == feature\n",
    "        ][['value', 'encoded']].set_index('value').to_dict()['encoded']\n",
    "    df[feature] = df[feature].map(encoding_dic)"
   ]
  },
  {
   "cell_type": "markdown",
   "metadata": {},
   "source": [
    "## End of processing\n",
    "Below I'll quickly train a model to get a preview of how the feature importances look\n",
    "- Note that the test below has data leakage so it's not a very accurate depiction of the actual importances"
   ]
  },
  {
   "cell_type": "code",
   "execution_count": 82,
   "metadata": {},
   "outputs": [
    {
     "name": "stdout",
     "output_type": "stream",
     "text": [
      "0.7707142857142858\n"
     ]
    }
   ],
   "source": [
    "## train lgbm\n",
    "\n",
    "X_train, X_test, y_train, y_test = train_test_split(\n",
    "    df.drop(['risk', 'target'], axis=1), df.target, test_size=0.2, stratify=df.target, random_state=42)\n",
    "\n",
    "lgbm = lgb.LGBMClassifier(verbose = -1)\n",
    "lgbm.fit(X_train, y_train)\n",
    "y_pred = lgbm.predict_proba(X_test)[:,1]\n",
    "\n",
    "print(roc_auc_score(y_test, y_pred))\n",
    "\n",
    "## estimate precision and recall at different thresholds\n",
    "\n",
    "precision, recall, thresholds = precision_recall_curve(y_test, y_pred)\n",
    "f1_scores = [f1_score(y_test, y_pred > threshold) for threshold in thresholds]"
   ]
  },
  {
   "cell_type": "code",
   "execution_count": 83,
   "metadata": {},
   "outputs": [
    {
     "name": "stdout",
     "output_type": "stream",
     "text": [
      "0.65\n"
     ]
    }
   ],
   "source": [
    "## calculate recall at 50% precision\n",
    "recall_at_50_precision = recall[np.argmin(np.abs(np.array(precision) - 0.5))]\n",
    "print(recall_at_50_precision) "
   ]
  },
  {
   "cell_type": "code",
   "execution_count": 84,
   "metadata": {},
   "outputs": [],
   "source": [
    "## feature importances\n",
    "feature_importances = pd.DataFrame({'feature': X_train.columns, 'importance': lgbm.feature_importances_})\n",
    "feature_importances = feature_importances.sort_values('importance', ascending=False)"
   ]
  },
  {
   "cell_type": "code",
   "execution_count": 85,
   "metadata": {},
   "outputs": [
    {
     "data": {
      "text/html": [
       "<div>\n",
       "<style scoped>\n",
       "    .dataframe tbody tr th:only-of-type {\n",
       "        vertical-align: middle;\n",
       "    }\n",
       "\n",
       "    .dataframe tbody tr th {\n",
       "        vertical-align: top;\n",
       "    }\n",
       "\n",
       "    .dataframe thead th {\n",
       "        text-align: right;\n",
       "    }\n",
       "</style>\n",
       "<table border=\"1\" class=\"dataframe\">\n",
       "  <thead>\n",
       "    <tr style=\"text-align: right;\">\n",
       "      <th></th>\n",
       "      <th>feature</th>\n",
       "      <th>importance</th>\n",
       "    </tr>\n",
       "  </thead>\n",
       "  <tbody>\n",
       "    <tr>\n",
       "      <th>6</th>\n",
       "      <td>credit_amount</td>\n",
       "      <td>1056</td>\n",
       "    </tr>\n",
       "    <tr>\n",
       "      <th>0</th>\n",
       "      <td>age</td>\n",
       "      <td>589</td>\n",
       "    </tr>\n",
       "    <tr>\n",
       "      <th>7</th>\n",
       "      <td>duration</td>\n",
       "      <td>377</td>\n",
       "    </tr>\n",
       "    <tr>\n",
       "      <th>8</th>\n",
       "      <td>purpose</td>\n",
       "      <td>204</td>\n",
       "    </tr>\n",
       "    <tr>\n",
       "      <th>5</th>\n",
       "      <td>checking_account</td>\n",
       "      <td>152</td>\n",
       "    </tr>\n",
       "    <tr>\n",
       "      <th>11</th>\n",
       "      <td>good_bad_balance</td>\n",
       "      <td>137</td>\n",
       "    </tr>\n",
       "    <tr>\n",
       "      <th>9</th>\n",
       "      <td>number_positive_indicators</td>\n",
       "      <td>117</td>\n",
       "    </tr>\n",
       "    <tr>\n",
       "      <th>4</th>\n",
       "      <td>saving_accounts</td>\n",
       "      <td>92</td>\n",
       "    </tr>\n",
       "    <tr>\n",
       "      <th>2</th>\n",
       "      <td>job</td>\n",
       "      <td>89</td>\n",
       "    </tr>\n",
       "    <tr>\n",
       "      <th>1</th>\n",
       "      <td>sex</td>\n",
       "      <td>53</td>\n",
       "    </tr>\n",
       "    <tr>\n",
       "      <th>3</th>\n",
       "      <td>housing</td>\n",
       "      <td>47</td>\n",
       "    </tr>\n",
       "    <tr>\n",
       "      <th>10</th>\n",
       "      <td>number_negative_indicators</td>\n",
       "      <td>44</td>\n",
       "    </tr>\n",
       "  </tbody>\n",
       "</table>\n",
       "</div>"
      ],
      "text/plain": [
       "                       feature  importance\n",
       "6                credit_amount        1056\n",
       "0                          age         589\n",
       "7                     duration         377\n",
       "8                      purpose         204\n",
       "5             checking_account         152\n",
       "11            good_bad_balance         137\n",
       "9   number_positive_indicators         117\n",
       "4              saving_accounts          92\n",
       "2                          job          89\n",
       "1                          sex          53\n",
       "3                      housing          47\n",
       "10  number_negative_indicators          44"
      ]
     },
     "execution_count": 85,
     "metadata": {},
     "output_type": "execute_result"
    }
   ],
   "source": [
    "feature_importances"
   ]
  },
  {
   "cell_type": "code",
   "execution_count": 86,
   "metadata": {},
   "outputs": [],
   "source": [
    "## correlation between every feature and the target\n",
    "correlations = []\n",
    "for feature in X_train.columns:\n",
    "    r, p = pearsonr(X_train[feature], y_train)\n",
    "    correlations.append({'feature': feature, 'pearsonr': r, 'p_value': p})\n",
    "\n",
    "correlations = pd.DataFrame(correlations)\n",
    "correlations = correlations.sort_values('pearsonr', ascending=False)\n"
   ]
  },
  {
   "cell_type": "code",
   "execution_count": 87,
   "metadata": {},
   "outputs": [
    {
     "data": {
      "text/html": [
       "<div>\n",
       "<style scoped>\n",
       "    .dataframe tbody tr th:only-of-type {\n",
       "        vertical-align: middle;\n",
       "    }\n",
       "\n",
       "    .dataframe tbody tr th {\n",
       "        vertical-align: top;\n",
       "    }\n",
       "\n",
       "    .dataframe thead th {\n",
       "        text-align: right;\n",
       "    }\n",
       "</style>\n",
       "<table border=\"1\" class=\"dataframe\">\n",
       "  <thead>\n",
       "    <tr style=\"text-align: right;\">\n",
       "      <th></th>\n",
       "      <th>feature</th>\n",
       "      <th>pearsonr</th>\n",
       "      <th>p_value</th>\n",
       "    </tr>\n",
       "  </thead>\n",
       "  <tbody>\n",
       "    <tr>\n",
       "      <th>10</th>\n",
       "      <td>number_negative_indicators</td>\n",
       "      <td>0.337728</td>\n",
       "      <td>8.558942e-23</td>\n",
       "    </tr>\n",
       "    <tr>\n",
       "      <th>5</th>\n",
       "      <td>checking_account</td>\n",
       "      <td>0.336676</td>\n",
       "      <td>1.181434e-22</td>\n",
       "    </tr>\n",
       "    <tr>\n",
       "      <th>7</th>\n",
       "      <td>duration</td>\n",
       "      <td>0.206301</td>\n",
       "      <td>3.875571e-09</td>\n",
       "    </tr>\n",
       "    <tr>\n",
       "      <th>4</th>\n",
       "      <td>saving_accounts</td>\n",
       "      <td>0.190440</td>\n",
       "      <td>5.706069e-08</td>\n",
       "    </tr>\n",
       "    <tr>\n",
       "      <th>6</th>\n",
       "      <td>credit_amount</td>\n",
       "      <td>0.138776</td>\n",
       "      <td>8.212145e-05</td>\n",
       "    </tr>\n",
       "    <tr>\n",
       "      <th>3</th>\n",
       "      <td>housing</td>\n",
       "      <td>0.128635</td>\n",
       "      <td>2.644675e-04</td>\n",
       "    </tr>\n",
       "    <tr>\n",
       "      <th>8</th>\n",
       "      <td>purpose</td>\n",
       "      <td>0.118568</td>\n",
       "      <td>7.787614e-04</td>\n",
       "    </tr>\n",
       "    <tr>\n",
       "      <th>1</th>\n",
       "      <td>sex</td>\n",
       "      <td>0.084246</td>\n",
       "      <td>1.715550e-02</td>\n",
       "    </tr>\n",
       "    <tr>\n",
       "      <th>2</th>\n",
       "      <td>job</td>\n",
       "      <td>0.041993</td>\n",
       "      <td>2.354573e-01</td>\n",
       "    </tr>\n",
       "    <tr>\n",
       "      <th>0</th>\n",
       "      <td>age</td>\n",
       "      <td>-0.057750</td>\n",
       "      <td>1.026316e-01</td>\n",
       "    </tr>\n",
       "    <tr>\n",
       "      <th>9</th>\n",
       "      <td>number_positive_indicators</td>\n",
       "      <td>-0.350036</td>\n",
       "      <td>1.792784e-24</td>\n",
       "    </tr>\n",
       "    <tr>\n",
       "      <th>11</th>\n",
       "      <td>good_bad_balance</td>\n",
       "      <td>-0.368313</td>\n",
       "      <td>4.163395e-27</td>\n",
       "    </tr>\n",
       "  </tbody>\n",
       "</table>\n",
       "</div>"
      ],
      "text/plain": [
       "                       feature  pearsonr       p_value\n",
       "10  number_negative_indicators  0.337728  8.558942e-23\n",
       "5             checking_account  0.336676  1.181434e-22\n",
       "7                     duration  0.206301  3.875571e-09\n",
       "4              saving_accounts  0.190440  5.706069e-08\n",
       "6                credit_amount  0.138776  8.212145e-05\n",
       "3                      housing  0.128635  2.644675e-04\n",
       "8                      purpose  0.118568  7.787614e-04\n",
       "1                          sex  0.084246  1.715550e-02\n",
       "2                          job  0.041993  2.354573e-01\n",
       "0                          age -0.057750  1.026316e-01\n",
       "9   number_positive_indicators -0.350036  1.792784e-24\n",
       "11            good_bad_balance -0.368313  4.163395e-27"
      ]
     },
     "execution_count": 87,
     "metadata": {},
     "output_type": "execute_result"
    }
   ],
   "source": [
    "correlations"
   ]
  }
 ],
 "metadata": {
  "kernelspec": {
   "display_name": "Python 3",
   "language": "python",
   "name": "python3"
  },
  "language_info": {
   "codemirror_mode": {
    "name": "ipython",
    "version": 3
   },
   "file_extension": ".py",
   "mimetype": "text/x-python",
   "name": "python",
   "nbconvert_exporter": "python",
   "pygments_lexer": "ipython3",
   "version": "3.11.5"
  },
  "orig_nbformat": 4
 },
 "nbformat": 4,
 "nbformat_minor": 2
}
