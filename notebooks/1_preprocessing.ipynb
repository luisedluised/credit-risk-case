{
 "cells": [
  {
   "cell_type": "code",
   "execution_count": 317,
   "metadata": {},
   "outputs": [],
   "source": [
    "import pandas as pd\n",
    "import numpy as np\n",
    "import matplotlib.pyplot as plt\n",
    "import seaborn as sns\n",
    "from warnings import filterwarnings\n",
    "filterwarnings('ignore')\n",
    "\n",
    "from sklearn.model_selection import train_test_split\n",
    "from sklearn.metrics import roc_auc_score\n",
    "from sklearn.metrics import precision_recall_curve\n",
    "from sklearn.metrics import f1_score\n",
    "\n",
    "import lightgbm as lgb"
   ]
  },
  {
   "cell_type": "code",
   "execution_count": 318,
   "metadata": {},
   "outputs": [],
   "source": [
    "from scipy.stats import pearsonr"
   ]
  },
  {
   "cell_type": "code",
   "execution_count": 319,
   "metadata": {},
   "outputs": [],
   "source": [
    "df = pd.read_csv('../data/german_credit_data.csv')\n",
    "df = df.drop(['Unnamed: 0'], axis=1)\n",
    "df.columns = [x.lower().replace(' ', '_') for x in df.columns]"
   ]
  },
  {
   "cell_type": "code",
   "execution_count": 320,
   "metadata": {},
   "outputs": [],
   "source": [
    "job_dic = {\n",
    "    0: 'unskilled non res',\n",
    "    1: 'unskilled resident',\n",
    "    2: 'skilled',\n",
    "    3: 'highly skilled'\n",
    "}\n",
    "df.job = df.job.map(job_dic)"
   ]
  },
  {
   "cell_type": "code",
   "execution_count": 321,
   "metadata": {},
   "outputs": [],
   "source": [
    "numerical_features = ['age', 'credit_amount', 'duration']\n",
    "categorical_features = ['sex', 'job', 'housing', 'saving_accounts', 'checking_account', 'purpose']"
   ]
  },
  {
   "cell_type": "code",
   "execution_count": 322,
   "metadata": {},
   "outputs": [],
   "source": [
    "df = df.fillna('undefined')"
   ]
  },
  {
   "cell_type": "code",
   "execution_count": 323,
   "metadata": {},
   "outputs": [
    {
     "data": {
      "text/html": [
       "<div>\n",
       "<style scoped>\n",
       "    .dataframe tbody tr th:only-of-type {\n",
       "        vertical-align: middle;\n",
       "    }\n",
       "\n",
       "    .dataframe tbody tr th {\n",
       "        vertical-align: top;\n",
       "    }\n",
       "\n",
       "    .dataframe thead th {\n",
       "        text-align: right;\n",
       "    }\n",
       "</style>\n",
       "<table border=\"1\" class=\"dataframe\">\n",
       "  <thead>\n",
       "    <tr style=\"text-align: right;\">\n",
       "      <th></th>\n",
       "      <th>age</th>\n",
       "      <th>sex</th>\n",
       "      <th>job</th>\n",
       "      <th>housing</th>\n",
       "      <th>saving_accounts</th>\n",
       "      <th>checking_account</th>\n",
       "      <th>credit_amount</th>\n",
       "      <th>duration</th>\n",
       "      <th>purpose</th>\n",
       "      <th>risk</th>\n",
       "      <th>target</th>\n",
       "    </tr>\n",
       "  </thead>\n",
       "  <tbody>\n",
       "    <tr>\n",
       "      <th>476</th>\n",
       "      <td>24</td>\n",
       "      <td>male</td>\n",
       "      <td>skilled</td>\n",
       "      <td>own</td>\n",
       "      <td>quite rich</td>\n",
       "      <td>undefined</td>\n",
       "      <td>2569</td>\n",
       "      <td>39</td>\n",
       "      <td>car</td>\n",
       "      <td>good</td>\n",
       "      <td>0</td>\n",
       "    </tr>\n",
       "    <tr>\n",
       "      <th>126</th>\n",
       "      <td>40</td>\n",
       "      <td>male</td>\n",
       "      <td>unskilled resident</td>\n",
       "      <td>own</td>\n",
       "      <td>little</td>\n",
       "      <td>little</td>\n",
       "      <td>701</td>\n",
       "      <td>12</td>\n",
       "      <td>radio/TV</td>\n",
       "      <td>good</td>\n",
       "      <td>0</td>\n",
       "    </tr>\n",
       "    <tr>\n",
       "      <th>649</th>\n",
       "      <td>40</td>\n",
       "      <td>male</td>\n",
       "      <td>unskilled resident</td>\n",
       "      <td>rent</td>\n",
       "      <td>little</td>\n",
       "      <td>little</td>\n",
       "      <td>684</td>\n",
       "      <td>12</td>\n",
       "      <td>education</td>\n",
       "      <td>bad</td>\n",
       "      <td>1</td>\n",
       "    </tr>\n",
       "  </tbody>\n",
       "</table>\n",
       "</div>"
      ],
      "text/plain": [
       "     age   sex                 job housing saving_accounts checking_account  \\\n",
       "476   24  male             skilled     own      quite rich        undefined   \n",
       "126   40  male  unskilled resident     own          little           little   \n",
       "649   40  male  unskilled resident    rent          little           little   \n",
       "\n",
       "     credit_amount  duration    purpose  risk  target  \n",
       "476           2569        39        car  good       0  \n",
       "126            701        12   radio/TV  good       0  \n",
       "649            684        12  education   bad       1  "
      ]
     },
     "execution_count": 323,
     "metadata": {},
     "output_type": "execute_result"
    }
   ],
   "source": [
    "df['target'] = (df.risk == 'bad').astype(int)\n",
    "df.sample(3)"
   ]
  },
  {
   "cell_type": "code",
   "execution_count": 324,
   "metadata": {},
   "outputs": [],
   "source": [
    "top_quantiles_space = np.linspace(.1, 0.9, 9)\n",
    "\n",
    "numerical_frame = pd.DataFrame()\n",
    "for feature in numerical_features:\n",
    "    for q in top_quantiles_space:\n",
    "        value = df[feature].quantile(q)\n",
    "\n",
    "        evaluation_series = (df[feature] >= value)\n",
    "        r, p = pearsonr(df.target, evaluation_series)\n",
    "        numerical_frame = pd.concat([numerical_frame, pd.DataFrame({'feature': feature, 'operation':'bigger than', 'quantile': q, 'pearsonr': r, 'value':value}, index=[0])])\n",
    "        \n",
    "        evaluation_series = (df[feature] <= value)\n",
    "        r, p = pearsonr(df.target, evaluation_series)\n",
    "        numerical_frame = pd.concat([numerical_frame, pd.DataFrame({'feature': feature, 'operation':'smaller than', 'quantile': q, 'pearsonr': r, 'value':value}, index=[0])])\n",
    "\n",
    "categorical_frame = pd.DataFrame()\n",
    "for feature in categorical_features:\n",
    "    for category in df[feature].unique():\n",
    "        evaluation_series = (df[feature] == category)\n",
    "        r, p = pearsonr(df.target, evaluation_series)\n",
    "        categorical_frame = pd.concat([categorical_frame, pd.DataFrame({'feature': feature, 'value': category, 'pearsonr': r}, index=[0])])\n",
    "    "
   ]
  },
  {
   "cell_type": "code",
   "execution_count": 325,
   "metadata": {},
   "outputs": [
    {
     "name": "stdout",
     "output_type": "stream",
     "text": [
      "The condition for a selection to be considered a bad sign is that the correlation is greater than 0.1\n"
     ]
    },
    {
     "data": {
      "text/html": [
       "<div>\n",
       "<style scoped>\n",
       "    .dataframe tbody tr th:only-of-type {\n",
       "        vertical-align: middle;\n",
       "    }\n",
       "\n",
       "    .dataframe tbody tr th {\n",
       "        vertical-align: top;\n",
       "    }\n",
       "\n",
       "    .dataframe thead th {\n",
       "        text-align: right;\n",
       "    }\n",
       "</style>\n",
       "<table border=\"1\" class=\"dataframe\">\n",
       "  <thead>\n",
       "    <tr style=\"text-align: right;\">\n",
       "      <th></th>\n",
       "      <th>feature</th>\n",
       "      <th>operation</th>\n",
       "      <th>quantile</th>\n",
       "      <th>pearsonr</th>\n",
       "      <th>value</th>\n",
       "    </tr>\n",
       "  </thead>\n",
       "  <tbody>\n",
       "    <tr>\n",
       "      <th>0</th>\n",
       "      <td>age</td>\n",
       "      <td>smaller than</td>\n",
       "      <td>0.3</td>\n",
       "      <td>0.100864</td>\n",
       "      <td>28.0</td>\n",
       "    </tr>\n",
       "    <tr>\n",
       "      <th>0</th>\n",
       "      <td>duration</td>\n",
       "      <td>bigger than</td>\n",
       "      <td>0.6</td>\n",
       "      <td>0.149747</td>\n",
       "      <td>24.0</td>\n",
       "    </tr>\n",
       "    <tr>\n",
       "      <th>0</th>\n",
       "      <td>age</td>\n",
       "      <td>smaller than</td>\n",
       "      <td>0.5</td>\n",
       "      <td>0.114405</td>\n",
       "      <td>33.0</td>\n",
       "    </tr>\n",
       "    <tr>\n",
       "      <th>0</th>\n",
       "      <td>duration</td>\n",
       "      <td>bigger than</td>\n",
       "      <td>0.5</td>\n",
       "      <td>0.175723</td>\n",
       "      <td>18.0</td>\n",
       "    </tr>\n",
       "    <tr>\n",
       "      <th>0</th>\n",
       "      <td>duration</td>\n",
       "      <td>bigger than</td>\n",
       "      <td>0.2</td>\n",
       "      <td>0.153360</td>\n",
       "      <td>12.0</td>\n",
       "    </tr>\n",
       "  </tbody>\n",
       "</table>\n",
       "</div>"
      ],
      "text/plain": [
       "    feature     operation  quantile  pearsonr  value\n",
       "0       age  smaller than       0.3  0.100864   28.0\n",
       "0  duration   bigger than       0.6  0.149747   24.0\n",
       "0       age  smaller than       0.5  0.114405   33.0\n",
       "0  duration   bigger than       0.5  0.175723   18.0\n",
       "0  duration   bigger than       0.2  0.153360   12.0"
      ]
     },
     "metadata": {},
     "output_type": "display_data"
    },
    {
     "name": "stdout",
     "output_type": "stream",
     "text": [
      "For each feature I will take the broadest quantile that fits the condition:\n"
     ]
    },
    {
     "data": {
      "text/html": [
       "<div>\n",
       "<style scoped>\n",
       "    .dataframe tbody tr th:only-of-type {\n",
       "        vertical-align: middle;\n",
       "    }\n",
       "\n",
       "    .dataframe tbody tr th {\n",
       "        vertical-align: top;\n",
       "    }\n",
       "\n",
       "    .dataframe thead th {\n",
       "        text-align: right;\n",
       "    }\n",
       "</style>\n",
       "<table border=\"1\" class=\"dataframe\">\n",
       "  <thead>\n",
       "    <tr style=\"text-align: right;\">\n",
       "      <th></th>\n",
       "      <th>feature</th>\n",
       "      <th>operation</th>\n",
       "      <th>quantile</th>\n",
       "      <th>pearsonr</th>\n",
       "      <th>value</th>\n",
       "    </tr>\n",
       "  </thead>\n",
       "  <tbody>\n",
       "    <tr>\n",
       "      <th>0</th>\n",
       "      <td>duration</td>\n",
       "      <td>bigger than</td>\n",
       "      <td>0.1</td>\n",
       "      <td>0.136092</td>\n",
       "      <td>9.0</td>\n",
       "    </tr>\n",
       "    <tr>\n",
       "      <th>0</th>\n",
       "      <td>age</td>\n",
       "      <td>smaller than</td>\n",
       "      <td>0.2</td>\n",
       "      <td>0.112409</td>\n",
       "      <td>26.0</td>\n",
       "    </tr>\n",
       "    <tr>\n",
       "      <th>0</th>\n",
       "      <td>credit_amount</td>\n",
       "      <td>bigger than</td>\n",
       "      <td>0.7</td>\n",
       "      <td>0.112750</td>\n",
       "      <td>3590.0</td>\n",
       "    </tr>\n",
       "  </tbody>\n",
       "</table>\n",
       "</div>"
      ],
      "text/plain": [
       "         feature     operation  quantile  pearsonr   value\n",
       "0       duration   bigger than       0.1  0.136092     9.0\n",
       "0            age  smaller than       0.2  0.112409    26.0\n",
       "0  credit_amount   bigger than       0.7  0.112750  3590.0"
      ]
     },
     "metadata": {},
     "output_type": "display_data"
    }
   ],
   "source": [
    "## good_signs selection\n",
    "print('The condition for a selection to be considered a bad sign is that the correlation is greater than 0.1')\n",
    "numerical_bad_signs = numerical_frame[numerical_frame.pearsonr > 0.1]\n",
    "display(numerical_bad_signs.sample(5))\n",
    "print('For each feature I will take the broadest quantile that fits the condition:')\n",
    "numerical_bad_signs = numerical_bad_signs.sort_values('quantile').drop_duplicates(['feature', 'operation'], keep='first')\n",
    "display(numerical_bad_signs.head(5))"
   ]
  },
  {
   "cell_type": "code",
   "execution_count": 326,
   "metadata": {},
   "outputs": [
    {
     "name": "stdout",
     "output_type": "stream",
     "text": [
      "for categorical variables, I just select r > 0.1\n"
     ]
    },
    {
     "data": {
      "text/html": [
       "<div>\n",
       "<style scoped>\n",
       "    .dataframe tbody tr th:only-of-type {\n",
       "        vertical-align: middle;\n",
       "    }\n",
       "\n",
       "    .dataframe tbody tr th {\n",
       "        vertical-align: top;\n",
       "    }\n",
       "\n",
       "    .dataframe thead th {\n",
       "        text-align: right;\n",
       "    }\n",
       "</style>\n",
       "<table border=\"1\" class=\"dataframe\">\n",
       "  <thead>\n",
       "    <tr style=\"text-align: right;\">\n",
       "      <th></th>\n",
       "      <th>feature</th>\n",
       "      <th>value</th>\n",
       "      <th>pearsonr</th>\n",
       "    </tr>\n",
       "  </thead>\n",
       "  <tbody>\n",
       "    <tr>\n",
       "      <th>0</th>\n",
       "      <td>saving_accounts</td>\n",
       "      <td>little</td>\n",
       "      <td>0.161007</td>\n",
       "    </tr>\n",
       "    <tr>\n",
       "      <th>0</th>\n",
       "      <td>checking_account</td>\n",
       "      <td>little</td>\n",
       "      <td>0.258333</td>\n",
       "    </tr>\n",
       "    <tr>\n",
       "      <th>0</th>\n",
       "      <td>checking_account</td>\n",
       "      <td>moderate</td>\n",
       "      <td>0.119581</td>\n",
       "    </tr>\n",
       "  </tbody>\n",
       "</table>\n",
       "</div>"
      ],
      "text/plain": [
       "            feature     value  pearsonr\n",
       "0   saving_accounts    little  0.161007\n",
       "0  checking_account    little  0.258333\n",
       "0  checking_account  moderate  0.119581"
      ]
     },
     "metadata": {},
     "output_type": "display_data"
    }
   ],
   "source": [
    "print('for categorical variables, I just select r > 0.1')\n",
    "categorical_bad_signs = categorical_frame[categorical_frame.pearsonr > 0.1]\n",
    "display(categorical_bad_signs.head(5))\n",
    "bad_signs = pd.concat([numerical_bad_signs, categorical_bad_signs])"
   ]
  },
  {
   "cell_type": "code",
   "execution_count": 327,
   "metadata": {},
   "outputs": [],
   "source": [
    "numerical_good_signs = numerical_frame[numerical_frame.pearsonr < -0.1]\n",
    "numerical_good_signs = numerical_good_signs.sort_values('quantile').drop_duplicates(['feature', 'operation'], keep='first')\n",
    "categorical_good_signs = categorical_frame[categorical_frame.pearsonr < -0.1]\n",
    "good_signs = pd.concat([numerical_good_signs, categorical_good_signs])"
   ]
  },
  {
   "cell_type": "code",
   "execution_count": 328,
   "metadata": {},
   "outputs": [],
   "source": [
    "good_signs['type'] = 'good_sign'\n",
    "bad_signs['type'] = 'bad_sign'\n",
    "\n",
    "signs_conditions = pd.concat([good_signs, bad_signs])\n",
    "signs_conditions = signs_conditions[['feature','operation','value', 'type']]\n",
    "signs_conditions.operation = signs_conditions.operation.fillna('equal to')"
   ]
  },
  {
   "cell_type": "code",
   "execution_count": 329,
   "metadata": {},
   "outputs": [],
   "source": [
    "df['number_good_signs'] = 0\n",
    "df['number_bad_signs'] = 0\n",
    "for condition in signs_conditions.iloc:\n",
    "    sign_type = condition.type ### good or bad\n",
    "    if condition.operation == 'bigger than':\n",
    "        df[f'number_{sign_type}s'] += (df[condition.feature] >= condition.value).astype(int)\n",
    "    elif condition.operation == 'smaller than':\n",
    "        df[f'number_{sign_type}s'] += (df[condition.feature] <= condition.value).astype(int)\n",
    "    else:\n",
    "        df[f'number_{sign_type}s'] += (df[condition.feature] == condition.value).astype(int)\n",
    "        \n",
    "df['good_bad_balance'] = df.number_good_signs - df.number_bad_signs"
   ]
  },
  {
   "cell_type": "code",
   "execution_count": 331,
   "metadata": {},
   "outputs": [
    {
     "name": "stdout",
     "output_type": "stream",
     "text": [
      "PearsonRResult(statistic=-0.3484071684948514, pvalue=6.485868863202711e-30)\n",
      "PearsonRResult(statistic=0.3511348318683366, pvalue=2.175101419068473e-30)\n",
      "PearsonRResult(statistic=-0.37371518243864044, pvalue=1.6854356618569274e-34)\n"
     ]
    }
   ],
   "source": [
    "print(pearsonr(df.number_good_signs, df.target))\n",
    "print(pearsonr(df.number_bad_signs, df.target))\n",
    "print(pearsonr(df.good_bad_balance, df.target))"
   ]
  },
  {
   "cell_type": "code",
   "execution_count": 332,
   "metadata": {},
   "outputs": [],
   "source": [
    "categorical_encoder_frame = pd.DataFrame()\n",
    "for feature in categorical_features:\n",
    "    for value in df[feature].unique():\n",
    "            evaluation_series = (df[feature] == value)\n",
    "            r, p = pearsonr(df.target, evaluation_series)\n",
    "            categorical_encoder_frame = pd.concat(\n",
    "                [categorical_encoder_frame, pd.DataFrame(\n",
    "                    {'feature': feature, 'value': value, 'pearsonr': r}, index=[0])])\n",
    "                    \n",
    "categorical_encoder_frame = categorical_encoder_frame.sort_values(['feature','pearsonr']\n",
    "    ).drop('pearsonr', axis=1).reset_index(drop=True)\n",
    "categorical_encoder_frame['encoded'] = 1\n",
    "categorical_encoder_frame.encoded = categorical_encoder_frame.groupby('feature').encoded.cumsum()"
   ]
  },
  {
   "cell_type": "code",
   "execution_count": 333,
   "metadata": {},
   "outputs": [],
   "source": [
    "for feature in categorical_features:\n",
    "    encoding_dic = categorical_encoder_frame[categorical_encoder_frame.feature == feature\n",
    "        ][['value', 'encoded']].set_index('value').to_dict()['encoded']\n",
    "    df[feature] = df[feature].map(encoding_dic)"
   ]
  },
  {
   "cell_type": "markdown",
   "metadata": {},
   "source": [
    "## encode categorical features ordinally\n",
    "for feature in categorical_features:\n",
    "    df[feature] = df[feature].astype('category').cat.codes"
   ]
  },
  {
   "cell_type": "code",
   "execution_count": 334,
   "metadata": {},
   "outputs": [
    {
     "name": "stdout",
     "output_type": "stream",
     "text": [
      "0.7707142857142858\n"
     ]
    }
   ],
   "source": [
    "## train lgbm\n",
    "\n",
    "X_train, X_test, y_train, y_test = train_test_split(\n",
    "    df.drop(['risk', 'target'], axis=1), df.target, test_size=0.2, stratify=df.target, random_state=42)\n",
    "\n",
    "lgbm = lgb.LGBMClassifier(verbose = -1)\n",
    "lgbm.fit(X_train, y_train)\n",
    "y_pred = lgbm.predict_proba(X_test)[:,1]\n",
    "\n",
    "print(roc_auc_score(y_test, y_pred))\n",
    "\n",
    "## estimate precision and recall at different thresholds\n",
    "\n",
    "precision, recall, thresholds = precision_recall_curve(y_test, y_pred)\n",
    "f1_scores = [f1_score(y_test, y_pred > threshold) for threshold in thresholds]"
   ]
  },
  {
   "cell_type": "code",
   "execution_count": 335,
   "metadata": {},
   "outputs": [
    {
     "name": "stdout",
     "output_type": "stream",
     "text": [
      "0.65\n"
     ]
    }
   ],
   "source": [
    "## calculate recall at 50% precision\n",
    "recall_at_50_precision = recall[np.argmin(np.abs(np.array(precision) - 0.5))]\n",
    "print(recall_at_50_precision) "
   ]
  },
  {
   "cell_type": "code",
   "execution_count": 336,
   "metadata": {},
   "outputs": [],
   "source": [
    "## feature importances\n",
    "feature_importances = pd.DataFrame({'feature': X_train.columns, 'importance': lgbm.feature_importances_})\n",
    "feature_importances = feature_importances.sort_values('importance', ascending=False)"
   ]
  },
  {
   "cell_type": "code",
   "execution_count": 337,
   "metadata": {},
   "outputs": [
    {
     "data": {
      "text/html": [
       "<div>\n",
       "<style scoped>\n",
       "    .dataframe tbody tr th:only-of-type {\n",
       "        vertical-align: middle;\n",
       "    }\n",
       "\n",
       "    .dataframe tbody tr th {\n",
       "        vertical-align: top;\n",
       "    }\n",
       "\n",
       "    .dataframe thead th {\n",
       "        text-align: right;\n",
       "    }\n",
       "</style>\n",
       "<table border=\"1\" class=\"dataframe\">\n",
       "  <thead>\n",
       "    <tr style=\"text-align: right;\">\n",
       "      <th></th>\n",
       "      <th>feature</th>\n",
       "      <th>importance</th>\n",
       "    </tr>\n",
       "  </thead>\n",
       "  <tbody>\n",
       "    <tr>\n",
       "      <th>6</th>\n",
       "      <td>credit_amount</td>\n",
       "      <td>1056</td>\n",
       "    </tr>\n",
       "    <tr>\n",
       "      <th>0</th>\n",
       "      <td>age</td>\n",
       "      <td>589</td>\n",
       "    </tr>\n",
       "    <tr>\n",
       "      <th>7</th>\n",
       "      <td>duration</td>\n",
       "      <td>377</td>\n",
       "    </tr>\n",
       "    <tr>\n",
       "      <th>8</th>\n",
       "      <td>purpose</td>\n",
       "      <td>204</td>\n",
       "    </tr>\n",
       "    <tr>\n",
       "      <th>5</th>\n",
       "      <td>checking_account</td>\n",
       "      <td>152</td>\n",
       "    </tr>\n",
       "    <tr>\n",
       "      <th>11</th>\n",
       "      <td>good_bad_balance</td>\n",
       "      <td>137</td>\n",
       "    </tr>\n",
       "    <tr>\n",
       "      <th>9</th>\n",
       "      <td>number_good_signs</td>\n",
       "      <td>117</td>\n",
       "    </tr>\n",
       "    <tr>\n",
       "      <th>4</th>\n",
       "      <td>saving_accounts</td>\n",
       "      <td>92</td>\n",
       "    </tr>\n",
       "    <tr>\n",
       "      <th>2</th>\n",
       "      <td>job</td>\n",
       "      <td>89</td>\n",
       "    </tr>\n",
       "    <tr>\n",
       "      <th>1</th>\n",
       "      <td>sex</td>\n",
       "      <td>53</td>\n",
       "    </tr>\n",
       "    <tr>\n",
       "      <th>3</th>\n",
       "      <td>housing</td>\n",
       "      <td>47</td>\n",
       "    </tr>\n",
       "    <tr>\n",
       "      <th>10</th>\n",
       "      <td>number_bad_signs</td>\n",
       "      <td>44</td>\n",
       "    </tr>\n",
       "  </tbody>\n",
       "</table>\n",
       "</div>"
      ],
      "text/plain": [
       "              feature  importance\n",
       "6       credit_amount        1056\n",
       "0                 age         589\n",
       "7            duration         377\n",
       "8             purpose         204\n",
       "5    checking_account         152\n",
       "11   good_bad_balance         137\n",
       "9   number_good_signs         117\n",
       "4     saving_accounts          92\n",
       "2                 job          89\n",
       "1                 sex          53\n",
       "3             housing          47\n",
       "10   number_bad_signs          44"
      ]
     },
     "execution_count": 337,
     "metadata": {},
     "output_type": "execute_result"
    }
   ],
   "source": [
    "feature_importances"
   ]
  }
 ],
 "metadata": {
  "kernelspec": {
   "display_name": "Python 3",
   "language": "python",
   "name": "python3"
  },
  "language_info": {
   "codemirror_mode": {
    "name": "ipython",
    "version": 3
   },
   "file_extension": ".py",
   "mimetype": "text/x-python",
   "name": "python",
   "nbconvert_exporter": "python",
   "pygments_lexer": "ipython3",
   "version": "3.11.5"
  },
  "orig_nbformat": 4
 },
 "nbformat": 4,
 "nbformat_minor": 2
}
